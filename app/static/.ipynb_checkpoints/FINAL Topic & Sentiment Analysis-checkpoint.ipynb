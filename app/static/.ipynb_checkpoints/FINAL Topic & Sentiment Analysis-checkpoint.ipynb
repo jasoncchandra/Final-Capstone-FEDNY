{
 "cells": [
  {
   "cell_type": "markdown",
   "metadata": {},
   "source": [
    "# Federal Reserve Minutes Sentiment Analysis \n",
    "\n",
    "The objective of this notebook is to extract topics and sentiment from Federal Minutes (2004-Present), leveraging natural language techniques such as bag of words and Latent Dirichlet Allocation (LDA). Sentiment is calculated using FinBert\n"
   ]
  },
  {
   "cell_type": "markdown",
   "metadata": {},
   "source": [
    "# <a name=\"data-o\"></a> Data Overview\n",
    "Data was web scrapped using [Webscraper.py]from https://www.federalreserve.gov/monetarypolicy/fomccalendars.htm and saved in the directory below. \n",
    "The year 2004 was chosen as the start-year given the acceleration of release dates to 3 weeks, and improved clarity in explanations of committee’s decisions and views [(Danker,2005)](https://www.federalreserve.gov/pubs/bulletin/2005/spring05_fomc.pdf)\n",
    "\n",
    "<br> \n",
    "In this section we will examine the transcripts' structure."
   ]
  },
  {
   "cell_type": "markdown",
   "metadata": {},
   "source": [
    "## <a name=\"sum\"></a>Summary"
   ]
  },
  {
   "cell_type": "code",
   "execution_count": 126,
   "metadata": {
    "tags": []
   },
   "outputs": [
    {
     "name": "stdout",
     "output_type": "stream",
     "text": [
      "pip install charset-normalizer==2.0.10\n",
      "pip install cycler==0.11.0\n",
      "pip install filelock==3.4.2\n",
      "pip install flake8==4.0.1\n",
      "pip install fonttools==4.29.0\n",
      "pip install funcy==1.17\n",
      "pip install future==0.18.2\n",
      "pip install gensim==4.1.2\n",
      "pip install huggingface-hub==0.4.0\n",
      "pip install idna==3.3\n",
      "pip install jinja2==3.0.3\n",
      "pip install joblib==1.1.0\n",
      "pip install kiwisolver==1.3.2\n",
      "pip install markupsafe==2.0.1\n",
      "pip install matplotlib==3.5.1\n",
      "pip install mccabe==0.6.1\n",
      "pip install nltk==3.6.7\n",
      "pip install numexpr==2.8.1\n",
      "pip install numpy==1.22.1\n",
      "pip install packaging==21.3\n",
      "pip install pandas==1.4.0\n",
      "pip install pep8==1.7.1\n",
      "pip install pillow==9.0.0\n",
      "pip install pycodestyle==2.8.0\n",
      "pip install pyflakes==2.4.0\n",
      "pip install pyldavis==3.3.1\n",
      "pip install pyparsing==3.0.7\n",
      "pip install pytz==2021.3\n",
      "pip install pyyaml==6.0\n",
      "pip install regex==2022.1.18\n",
      "pip install requests==2.27.1\n",
      "pip install sacremoses==0.0.47\n",
      "pip install scikit-learn==1.0.2\n",
      "pip install scipy==1.7.3\n",
      "pip install seaborn==0.11.2\n",
      "pip install sklearn==0.0\n",
      "pip install smart-open==5.2.1\n",
      "pip install threadpoolctl==3.0.0\n",
      "pip install tokenizers==0.11.4\n",
      "pip install torch==1.10.2\n",
      "pip install tqdm==4.62.3\n",
      "pip install transformers==4.16.1\n",
      "pip install urllib3==1.26.8\n"
     ]
    }
   ],
   "source": [
    "pip_packages = [\n",
    "    \"charset-normalizer==2.0.10\",\n",
    "    \"cycler==0.11.0\",\n",
    "    \"filelock==3.4.2\",\n",
    "    \"flake8==4.0.1\",\n",
    "    \"fonttools==4.29.0\",\n",
    "    \"funcy==1.17\",\n",
    "    \"future==0.18.2\",\n",
    "    \"gensim==4.1.2\",\n",
    "    \"huggingface-hub==0.4.0\",\n",
    "    \"idna==3.3\",\n",
    "    \"jinja2==3.0.3\",\n",
    "    \"joblib==1.1.0\",\n",
    "    \"kiwisolver==1.3.2\",\n",
    "    \"markupsafe==2.0.1\",\n",
    "    \"matplotlib==3.5.1\",\n",
    "    \"mccabe==0.6.1\",\n",
    "    \"nltk==3.6.7\",\n",
    "    \"numexpr==2.8.1\",\n",
    "    \"numpy==1.22.1\",\n",
    "    \"packaging==21.3\",\n",
    "    \"pandas==1.4.0\",\n",
    "    \"pep8==1.7.1\",\n",
    "    \"pillow==9.0.0\",\n",
    "    \"pycodestyle==2.8.0\",\n",
    "    \"pyflakes==2.4.0\",\n",
    "    \"pyldavis==3.3.1\",\n",
    "    \"pyparsing==3.0.7\",\n",
    "    \"pytz==2021.3\",\n",
    "    \"pyyaml==6.0\",\n",
    "    \"regex==2022.1.18\",\n",
    "    \"requests==2.27.1\",\n",
    "    \"sacremoses==0.0.47\",\n",
    "    \"scikit-learn==1.0.2\",\n",
    "    \"scipy==1.7.3\",\n",
    "    \"seaborn==0.11.2\",\n",
    "    \"sklearn==0.0\",\n",
    "    \"smart-open==5.2.1\",\n",
    "    \"threadpoolctl==3.0.0\",\n",
    "    \"tokenizers==0.11.4\",\n",
    "    \"torch==1.10.2\",\n",
    "    \"tqdm==4.62.3\",\n",
    "    \"transformers==4.16.1\",\n",
    "    \"urllib3==1.26.8\"\n",
    "]\n",
    "\n",
    "# Generate pip install commands\n",
    "for package in pip_packages:\n",
    "    print(f\"pip install {package}\")\n"
   ]
  },
  {
   "cell_type": "code",
   "execution_count": 14,
   "metadata": {
    "tags": []
   },
   "outputs": [],
   "source": [
    "import os\n",
    "import pandas as pd\n",
    "import numpy as np \n",
    "import re\n",
    "import string\n",
    "\n",
    "from utils.corpusutils import CorpusPreProcess, Document, Corpus\n",
    "from utils.featureutils import FeatureProcessor,find_closest\n",
    "\n",
    "\n",
    "from nltk.tokenize import WordPunctTokenizer\n",
    "from nltk.data import LazyLoader\n",
    "from nltk.stem.porter import PorterStemmer\n",
    "from nltk.stem import WordNetLemmatizer\n",
    "from nltk.tokenize.treebank import TreebankWordDetokenizer\n",
    "from nltk.corpus import stopwords\n",
    "from sklearn.decomposition import LatentDirichletAllocation\n",
    "from sklearn.feature_extraction.text import CountVectorizer\n",
    "\n",
    "from transformers import AutoTokenizer, AutoModelForSequenceClassification\n",
    "\n",
    "import seaborn as sns\n",
    "import matplotlib.pyplot as plt\n",
    "from sklearn.metrics.pairwise import cosine_similarity\n",
    "from scipy.spatial.distance import jensenshannon\n",
    "import torch\n",
    "import joblib\n",
    "import pickle\n",
    "import pyLDAvis\n",
    "import pyLDAvis.lda_model\n",
    "pyLDAvis.enable_notebook()\n",
    "import warnings\n",
    "warnings.filterwarnings('ignore')"
   ]
  },
  {
   "cell_type": "code",
   "execution_count": 22,
   "metadata": {
    "tags": []
   },
   "outputs": [],
   "source": [
    "\n",
    "current_directory = os.getcwd()\n",
    "root = os.path.join(current_directory,\"Minutes\")\n",
    "word_tokenizer = WordPunctTokenizer()\n",
    "sent_tokenizer = LazyLoader(\"tokenizers/punkt/english.pickle\")\n",
    "category_pattern = r'(\\d{4})/*'\n",
    "file_extension = r'*.txt'\n",
    "file_pattern = r'(\\d{8})/*'\n",
    "stemmer = PorterStemmer()\n",
    "lemmatizer = WordNetLemmatizer()\n",
    "stop_words = stopwords.words('english') + list(string.punctuation) + ['u','.','s','--','-','.\"',',\"','.)',')-','\".','—','),'] \n",
    "\n",
    "\n",
    "fed_mins = CorpusPreProcess(root=root,file_extension = file_extension,\n",
    "                            category_pattern=category_pattern,\n",
    "                            file_pattern=file_pattern,\n",
    "                            word_tokenizer = word_tokenizer,\n",
    "                            sent_tokenizer=sent_tokenizer,\n",
    "                            stemmer = stemmer,\n",
    "                            lemmatizer = lemmatizer,\n",
    "                            stop_words = stop_words\n",
    "                            )"
   ]
  },
  {
   "cell_type": "code",
   "execution_count": 23,
   "metadata": {
    "tags": []
   },
   "outputs": [
    {
     "name": "stdout",
     "output_type": "stream",
     "text": [
      "Total number of files: 162\n",
      "Number of paragraphs: 17913\n",
      "Number of sentences: 49573\n",
      "Number of words: 1376300\n",
      "\n",
      "First file: 20040128\n",
      "Last file: 20240612\n"
     ]
    }
   ],
   "source": [
    "fed_mins_ids = fed_mins.get_file_ids()\n",
    "\n",
    "print('Total number of files: '+str(len(fed_mins_ids)))\n",
    "print('Number of paragraphs: '+str(len(fed_mins.get_paras())))\n",
    "print('Number of sentences: '+str(len(fed_mins.get_sents())))\n",
    "print('Number of words: '+str(len(fed_mins.get_words())))\n",
    "print('\\n'+'First file: '+ fed_mins_ids[0])\n",
    "print('Last file: '+ fed_mins_ids[-1])"
   ]
  },
  {
   "cell_type": "code",
   "execution_count": 24,
   "metadata": {
    "tags": []
   },
   "outputs": [],
   "source": [
    "#For each Category\n",
    "para_by_year = {}\n",
    "\n",
    "for cat in fed_mins.get_category_ids():\n",
    "    files = fed_mins.get_file_ids(category_id=cat)\n",
    "    para_by_year[cat] = {'nparas':sum(len(fed_mins.get_paras(file_id=f)) for f in files)/len(files),\n",
    "                        'nwords':sum(len(fed_mins.get_words(file_id=f)) for f in files)/len(files)}\n"
   ]
  },
  {
   "cell_type": "code",
   "execution_count": 25,
   "metadata": {
    "tags": []
   },
   "outputs": [
    {
     "data": {
      "text/plain": [
       "<Axes: title={'center': 'Paragraphs and words overtime'}>"
      ]
     },
     "execution_count": 25,
     "metadata": {},
     "output_type": "execute_result"
    },
    {
     "data": {
      "image/png": "[encoded data removed]",
      "text/plain": [
       "<Figure size 1000x500 with 2 Axes>"
      ]
     },
     "metadata": {},
     "output_type": "display_data"
    }
   ],
   "source": [
    "pd.DataFrame.from_dict(para_by_year).T.sort_index().plot(kind='bar',secondary_y='nparas',figsize=(10,5),title='Paragraphs and words overtime')\n"
   ]
  },
  {
   "cell_type": "markdown",
   "metadata": {},
   "source": [
    "We can see an acceleration in the amount of paragraphs and words overtime."
   ]
  },
  {
   "cell_type": "code",
   "execution_count": 26,
   "metadata": {
    "tags": []
   },
   "outputs": [
    {
     "name": "stdout",
     "output_type": "stream",
     "text": [
      "Overwritting existing folder\n",
      "end_regex could not be found in 20220504.txt, defaulting to end of file\n"
     ]
    }
   ],
   "source": [
    "start_regex = r\"\"\"(?i)(staff\\sreview\\sof\\sthe\\seconomic|the\\sinformation\\s[\\s]?(?:reviewed|received|provided)|the\\scommittee\\sthen\\sturned\\sto\\sa\\sdiscussion\\sof\\sthe\\seconomic\\soutlook|in\\sthe\\scommittee[\\']?s\\sdiscussion\\sof\\scurrent\\sand\\sprospective\\seconomic)\"\"\"\n",
    "end_regex = r\"\"\"(?i)(at\\sthe\\sconclusion\\sof\\s[\\s]?(?:the|this)\\s(?:discussion|meetings)|the\\scommitte\\svoted\\sto\\sauthorize|the\\svote\\sencompassed\\sapproval\\sof)\"\"\"\n",
    "file_stats = fed_mins.truncate_text(start_regex,end_regex,return_stats=True)"
   ]
  },
  {
   "cell_type": "code",
   "execution_count": 27,
   "metadata": {
    "tags": []
   },
   "outputs": [
    {
     "data": {
      "text/html": [
       "<div>\n",
       "<style scoped>\n",
       "    .dataframe tbody tr th:only-of-type {\n",
       "        vertical-align: middle;\n",
       "    }\n",
       "\n",
       "    .dataframe tbody tr th {\n",
       "        vertical-align: top;\n",
       "    }\n",
       "\n",
       "    .dataframe thead th {\n",
       "        text-align: right;\n",
       "    }\n",
       "</style>\n",
       "<table border=\"1\" class=\"dataframe\">\n",
       "  <thead>\n",
       "    <tr style=\"text-align: right;\">\n",
       "      <th></th>\n",
       "      <th>size_pct_change</th>\n",
       "    </tr>\n",
       "  </thead>\n",
       "  <tbody>\n",
       "    <tr>\n",
       "      <th>20200129.txt</th>\n",
       "      <td>-60.414296</td>\n",
       "    </tr>\n",
       "    <tr>\n",
       "      <th>20190130.txt</th>\n",
       "      <td>-59.268669</td>\n",
       "    </tr>\n",
       "    <tr>\n",
       "      <th>20180131.txt</th>\n",
       "      <td>-58.432987</td>\n",
       "    </tr>\n",
       "    <tr>\n",
       "      <th>20140129.txt</th>\n",
       "      <td>-57.307791</td>\n",
       "    </tr>\n",
       "    <tr>\n",
       "      <th>20050202.txt</th>\n",
       "      <td>-56.184258</td>\n",
       "    </tr>\n",
       "    <tr>\n",
       "      <th>...</th>\n",
       "      <td>...</td>\n",
       "    </tr>\n",
       "    <tr>\n",
       "      <th>20221102.txt</th>\n",
       "      <td>-12.150198</td>\n",
       "    </tr>\n",
       "    <tr>\n",
       "      <th>20230322.txt</th>\n",
       "      <td>-10.266734</td>\n",
       "    </tr>\n",
       "    <tr>\n",
       "      <th>20221214.txt</th>\n",
       "      <td>-10.254278</td>\n",
       "    </tr>\n",
       "    <tr>\n",
       "      <th>20230201.txt</th>\n",
       "      <td>-9.318664</td>\n",
       "    </tr>\n",
       "    <tr>\n",
       "      <th>20220504.txt</th>\n",
       "      <td>-5.075730</td>\n",
       "    </tr>\n",
       "  </tbody>\n",
       "</table>\n",
       "<p>162 rows × 1 columns</p>\n",
       "</div>"
      ],
      "text/plain": [
       "              size_pct_change\n",
       "20200129.txt       -60.414296\n",
       "20190130.txt       -59.268669\n",
       "20180131.txt       -58.432987\n",
       "20140129.txt       -57.307791\n",
       "20050202.txt       -56.184258\n",
       "...                       ...\n",
       "20221102.txt       -12.150198\n",
       "20230322.txt       -10.266734\n",
       "20221214.txt       -10.254278\n",
       "20230201.txt        -9.318664\n",
       "20220504.txt        -5.075730\n",
       "\n",
       "[162 rows x 1 columns]"
      ]
     },
     "execution_count": 27,
     "metadata": {},
     "output_type": "execute_result"
    }
   ],
   "source": [
    "pd.Series(file_stats).rename('size_pct_change').to_frame().sort_values(by='size_pct_change')"
   ]
  },
  {
   "cell_type": "markdown",
   "metadata": {},
   "source": [
    "# Further pre-processing"
   ]
  },
  {
   "cell_type": "code",
   "execution_count": 28,
   "metadata": {
    "tags": []
   },
   "outputs": [
    {
     "name": "stdout",
     "output_type": "stream",
     "text": [
      "\u001b[1mExample Sentence\u001b[0m\n",
      "Total U . S . consumer prices, as measured by the PCE price index, increased slightly more than 1 - 1 / 2 percent over the 12 months ending in October.\n",
      "\n",
      "\u001b[1mTokenize\u001b[0m\n",
      "['Total', 'U', '.', 'S', '.', 'consumer', 'prices', ',', 'as', 'measured', 'by', 'the', 'PCE', 'price', 'index', ',', 'increased', 'slightly', 'more', 'than', '1', '-', '1', '/', '2', 'percent', 'over', 'the', '12', 'months', 'ending', 'in', 'October', '.']\n",
      "\n",
      "\u001b[1mStem tokens\u001b[0m\n",
      "['total', 'consum', 'price', 'measur', 'pce', 'price', 'index', 'increas', 'slightli', 'percent', 'month', 'end', 'octob']\n",
      "\n",
      "\u001b[1mLemmatize tokens\u001b[0m\n",
      "['total', 'consumer', 'price', 'measure', 'pce', 'price', 'index', 'increase', 'slightly', 'percent', 'month', 'end', 'october']\n"
     ]
    }
   ],
   "source": [
    "file_example = '20171213'\n",
    "sent_example = fed_mins.get_sents(file_id=file_example,stem=True,lemmatize=True)[32]\n",
    "print('\\033[1m'+\"Example Sentence\"+'\\033[0m')\n",
    "print(TreebankWordDetokenizer().detokenize(sent_example))\n",
    "\n",
    "print('\\n'+'\\033[1m'+\"Tokenize\"+'\\033[0m')\n",
    "print(sent_example)\n",
    "\n",
    "print('\\n'+'\\033[1m'+\"Stem tokens\"+'\\033[0m')\n",
    "sent_stemmed = sent_example.stem\n",
    "print(sent_stemmed)\n",
    "\n",
    "print('\\n'+'\\033[1m'+\"Lemmatize tokens\"+'\\033[0m')\n",
    "sent_lemmatized = sent_example.lemma\n",
    "print(sent_lemmatized)"
   ]
  },
  {
   "cell_type": "markdown",
   "metadata": {},
   "source": [
    "# LDA"
   ]
  },
  {
   "cell_type": "code",
   "execution_count": 29,
   "metadata": {
    "tags": []
   },
   "outputs": [],
   "source": [
    "import os\n",
    "import re\n",
    "import string\n",
    "import shutil\n",
    "import pandas as pd\n",
    "import numpy as np\n",
    "import matplotlib.pyplot as plt\n",
    "import seaborn as sns\n",
    "import warnings\n",
    "from nltk.tokenize import WordPunctTokenizer\n",
    "from nltk.data import LazyLoader\n",
    "from nltk.stem import PorterStemmer, WordNetLemmatizer\n",
    "from nltk.corpus import stopwords\n",
    "from nltk.tokenize import sent_tokenize, word_tokenize\n",
    "from nltk.stem import WordNetLemmatizer\n",
    "from nltk.corpus import stopwords\n",
    "\n",
    "# Define directories\n",
    "combined_dir = \"Minutes_truncated\"\n",
    "\n",
    "# Preprocess the combined texts\n",
    "stop_words = set(stopwords.words('english')) | {'u', 's', '--', '-', '.\"', ',\"', '.)', ')-', '\".', '—', '),'}\n",
    "lemmatizer = WordNetLemmatizer()\n",
    "\n",
    "# Preprocess and vectorize texts\n",
    "def preprocess_text(text):\n",
    "    tokens = word_tokenize(text.lower())\n",
    "    tokens = [t for t in tokens if t not in stop_words and t.isalpha()]  # Remove stopwords and non-alphabetic tokens\n",
    "    tokens = [lemmatizer.lemmatize(t) for t in tokens]\n",
    "    return ' '.join(tokens)\n",
    "\n",
    "texts = []\n",
    "for file in os.listdir(root):\n",
    "    if file.endswith(\".txt\"):\n",
    "        with open(os.path.join(root, file), 'r', encoding='utf-8') as f:\n",
    "            text = f.read()\n",
    "            preprocessed_text = preprocess_text(text)\n",
    "            texts.append(preprocessed_text)\n",
    "\n",
    "# Ensure all elements in texts are strings\n",
    "texts = [str(text) for text in texts if isinstance(text, str)]\n",
    "\n"
   ]
  },
  {
   "cell_type": "code",
   "execution_count": 30,
   "metadata": {
    "tags": []
   },
   "outputs": [
    {
     "name": "stdout",
     "output_type": "stream",
     "text": [
      "Sample preprocessed text:\n",
      "meeting federal open market committee held office board governor federal reserve system washington wednesday november moskow santomero stern alternate member federal open market committee guynn lacker yellen president federal reserve bank atlanta richmond san francisco respectively connors fuhrer hakkio howard madigan slifman sniderman rasche wilcox associate economist ko manager system open market account ettin deputy director division research statistic board governor oliner struckmeyer associate director division research statistic board governor clouse whitesell deputy associate director division monetary affair board governor english assistant director division monetary affair board governor simpson senior adviser division research statistic board governor brady section chief division monetary affair board governor small project manager division monetary affair board governor skidmore special assistant board office board member board governor luecke senior financial analyst division monetary affair board governor low open market secretariat assistant division monetary affair board governor holcomb rasdall first vice president federal reserve bank dallas kansa city respectively eisenbeis estrella evans goodfriend mester rosenblum williams senior vice president federal reserve bank atlanta new york chicago richmond philadelphia dallas san francisco respectively hilton vice president federal reserve bank new york weber senior research officer federal reserve bank minneapolis unanimous vote minute meeting federal open market committee held september approved unanimous vote federal open market committee approved selection deborah danker deputy secretary committee serve selection successor first regularly scheduled meeting december manager system open market account reported recent development foreign exchange market open market operation foreign currency system account period since previous meeting manager reported recent development domestic financial market system open market transaction government security security issued fully guaranteed federal agency period september november unanimous vote committee ratified transaction manager also discussed pressure federal fund rate prior volatility rate ensued time recent fomc meeting depository institution sought satisfy larger portion reserve requirement anticipated increase fomc target fund rate committee agreed desk would continue conduct open market operation situation leaning anticipatory pressure fund market taking account reserve management implication operation remainder reserve maintenance period information received meeting suggested economy expanded moderate pace third quarter low interest rate helped maintain buoyant housing market spending consumer business firm available information suggested recent tempo economic activity continued current quarter despite restraint imparted real income consumer confidence higher oil price however industrial production flat recent month hiring activity lackluster september advancing sharply october inflation measure continued low level september employment gain subdued third quarter showed substantial strength october job growth last month fairly widespread although heavy hiring construction sector due partly effort repair damage four hurricane hit southeastern state employment increase particularly large financial service sector however small decline registered employment manufacturing sector average workweek held steady october level bit average second quarter despite strong increase payroll employment household survey indicated slight increase unemployment rate percent october industrial production unchanged september likely restrained hurricane month decline manufacturing offset jump utility output expansion industry available data suggested industrial production rebounded october capacity utilization unchanged september average level earlier year consumer spending advanced strongly third quarter sluggish pace second quarter acceleration reflected surge expenditure motor vehicle owed partly attractive incentive spending durables nondurables also spending service steady third quarter average advanced september boost electricity consumption related unseasonably warm weather real disposable income slowed third quarter moderate pace flat september probably part effect hurricane measure consumer confidence moved september october activity housing market remained generally strong september supported favorable mortgage rate although start home slowed well level preceding month multifamily start rose sale existing new home elevated business investment spending equipment software continued expand rapid pace third quarter supported positive fundamental included robust business output low interest rate readily available credit healthy business balance sheet outlay equipment software stepped third quarter spending type equipment including transportation high level time investment nonresidential structure turned second quarter softened third quarter construction spending retail building warehouse advanced high vacancy rate office building held back investment sector accumulation nonfarm inventory excluding motor vehicle picked smartly third quarter level sale also rose however keeping ratio fairly steady low level international trade deficit rose third quarter average reflecting weakening growth service export increase price quantity petroleum import deficit narrowed september however import fell export expanded moderately lower level import september mainly reflected decline petroleum service category economic expansion abroad average appeared slow third quarter although remained solid consumer price continued advance moderate rate recent month although overall core consumer price measure rose bit faster twelve month ending september period expectation inflation picked october consistent increase energy price labor cost continued rise moderately increase employment cost index private compensation third quarter bit average pace last two year meeting september federal open market committee adopted directive called condition reserve market consistent increasing federal fund rate average around percent public statement committee expressed belief monetary policy remained accommodative even tightening judged upside downside risk attainment sustainable growth price stability next quarter roughly equal committee noted expectation underlying rate inflation would continue low policy accommodation could removed pace likely measured also stated would nonetheless respond change economic prospect needed fulfill obligation maintain price stability fomc decision september raise intended level federal fund rate basis point attendant public statement anticipated market reaction muted subsequent week however reference minute august fomc meeting need significant cumulative tightening comment chairman fomc member read minimizing likely damping effect economy higher energy price led market raise expectation forthcoming policy tightening expectation boosted release strong employment data october shift market outlook monetary policy contributed noticeable upward pressure interest rate rate also moved yield corporate bond rose line treasury yield bond edged equity market posted strong advance foreign exchange market dollar declined appreciably apparently part continuing market concern financing current account deficit expanded october sluggish pace third quarter growth restrained recent month increase opportunity cost rate paid liquid asset component lagged increase market rate associated three monetary tightening since midyear staff forecast prepared meeting economy seen likely expand next year around year solid pace assumption generally accommodative financial condition recent decline dollar expected support domestic economic activity boosting net export fiscal policy expected become much le stimulative current quarter owing expiration temporary provision tax code oil price anticipated decline somewhat repair damage oil infrastructure gulf mexico leading slowing inflation economy expected advance coming year rate bit potential pace hiring firm unemployment rate edge lower response rising real income consumer spending forecast strengthen early part next year staff expected business investment spending slow sharply early next year provision expired pick noticeably response favorable financing condition ample business liquidity need replace upgrade aging equipment software committee discussion current prospective development member generally expressed assessment economic expansion neighborhood rate growth economy potential appeared become even firmly established recent month despite drag higher energy price recent data anecdotal information suggested spending business household reasonably robust late supported accommodative financial condition continuing gain productivity increasing employment looking forward economic fundamental appeared favorable continued solid growth fiscal stimulus would abate next year flattening energy price market seemed anticipate would bolster economic expansion however significant uncertainty surrounded prospect energy price fiscal policy well external sector committee anticipated underlying inflation pressure would remain contained monetary accommodation withdrawn core consumer price inflation quite damped average recent month inflation expectation remained well anchored despite increase energy price prospective increase headline inflation discussion key sector economy policymakers noted business investment expanding robustly likely continue buoyed strength productivity profit sector truck heavy equipment experienced rapid growth however even taking account likely effect higher oil price pace overall business investment spending still boosting gdp growth somewhat le might expected given accommodative financial condition tax incentive uncertainty associated election resolved others persisted including prospect oil price consequence economy many business firm seemed hesitant investment increase productive capacity hiring commitment perhaps partly reflecting environment greater scrutiny regarding corporate governance internal control system sector investment information technology generally growing le rapidly late seen posing possible downside risk outlook recent slower rate price decline product implied softer underlying pace technological change outlook investment demand prospect persisting high trend growth productivity could damped relative previous expectation acknowledging data indicating rebound consumption spending recent month committee member reported contact retail merchant suggested mixed reading ongoing pace consumer buying effect higher energy price real income likely still restraining consumer spending moreover stock automobile owned household risen substantially recent year willingness household purchase auto seen continuing depend importantly provision incentive manufacturer home buying residential construction generally remained robust although member pointed moderation activity selected market noted slowdown rate increase home price going forward might lead household increase desired saving however risk significant growth consumer spending would likely diminish sustained rebound pace hiring comment fiscal policy committee member indicated expectation economic stimulus provided recent year discretionary fiscal measure likely fade next year however considerable uncertainty surrounded likely evolution federal budget member stressed importance fiscal discipline facilitate better balance net national saving investment thereby promote adjustment imbalance current account balance payment committee member noted balance trade improved little september commented decline value dollar past year boosting demand seen exporting firm however foreign economic growth moderating large excess import export member generally viewed prospect net export likely provide continuing drag economic expansion one implication outlook external indebtedness relative gdp would increasing committee member remarked sign improvement labor market condition acknowledging need cautious reading single labor market report member saw increase payroll employment october upward revision previous month encouraging furthermore business contact several region indicating greater difficulty filling type position skilled unskilled nevertheless many firm evidently remained slow expand hiring part rising benefit cost one member commented performance key industry citing evidence job loss since business cycle peak driven primarily weak demand rather productivity improvement although extent economic slack uncertain member indicated sense economy needed grow faster trend order take remaining unused resource wage price pressure generally still modest firm reportedly finding easier pas higher oil commodity cost business customer business contact indicated considerable difficulty passing cost increase consumer inflation expectation remained reasonably low helping restrain spillover elevated energy price price good service member noted remaining resource slack would probably exert downward pressure inflation depreciation dollar seemed muted effect import price date however upside risk inflation outlook included possible depreciation dollar increase energy price addition member cited possibility elevated pace trend productivity growth experienced since would begin slow committee discussion setting policy member favored raising target federal fund rate basis point percent meeting economy appeared continuing expand moderate pace likely rapid enough gradually reduce margin underutilized resource regard committee encouraged evident sign improvement hiring committee felt outlook justified removal policy accommodation appropriate economic expansion tentative today action would move real fund rate measured using core pce inflation toward positive setting discussing fomc announcement meeting going forward several member commented policy action would likely become increasingly dependent incoming data implication future activity price might imply gradual path tightening going forward last several month example seemed built term structure interest rate might mean committee occasion would need firm policy rapidly member felt greater uncertainty might become appropriate eventually move away recent practice providing guidance likely future path policy others emphasized desirability continuing informative possible committee perceived outlook member agreed current statement language provided considerable flexibility regard committee future action market participant understood flexibility regard announcement released meeting member felt little change statement language required policymakers concurred statement indicate output appears growing moderate pace despite rise energy price labor market condition improved inflation inflation expectation remain well contained agreed characterize risk sustainable growth price stability balanced reiterate policy accommodation could removed pace likely measured committee respond change economic prospect needed maintain price stability conclusion discussion committee voted authorize direct federal reserve bank new york instructed otherwise execute transaction system account accordance following domestic policy directive federal open market committee seek monetary financial condition foster price stability promote sustainable growth output objective committee immediate future seek condition reserve market consistent increasing federal fund rate average around percent vote encompassed approval paragraph inclusion statement released shortly meeting committee perceives upside downside risk attainment sustainable growth price stability next quarter roughly equal underlying inflation expected relatively low committee belief policy accommodation removed pace likely measured nonetheless committee respond change economic prospect needed fulfill obligation maintain price stability vote action greenspan geithner bernanke bies ferguson gramlich hoenig kohn minehan olson pianalto poole vote action none agreed next meeting committee would held tuesday december meeting adjourned notation vote notation vote completed december committee authorized santomero alternate member committee accept honor title cavaliere awarded government italy vote action greenspan geithner bernanke bies ferguson gramlich hoenig kohn minehan olson pianalto poole vote action none return top fomc\n"
     ]
    }
   ],
   "source": [
    "print(f\"Sample preprocessed text:\\n{texts[0]}\")"
   ]
  },
  {
   "cell_type": "markdown",
   "metadata": {},
   "source": [
    "We want a balance between the # of topics, and how different everything is."
   ]
  },
  {
   "cell_type": "markdown",
   "metadata": {},
   "source": []
  },
  {
   "cell_type": "code",
   "execution_count": 31,
   "metadata": {
    "tags": []
   },
   "outputs": [
    {
     "name": "stdout",
     "output_type": "stream",
     "text": [
      "Topics for 6 topics:\n",
      "  Topic 0:  Topic 1: Topic 2:  Topic 3:   Topic 4:  Topic 5:\n",
      "0  quarter    inflat   inflat    growth     market  particip\n",
      "1     loan  committe    price    econom     period      busi\n",
      "2  increas  particip    labor   project       rate     spend\n",
      "3     real    polici    month      year      yield     price\n",
      "4   remain     would     rate     staff  intermeet    growth\n",
      "5   declin    econom   measur   quarter       bank      note\n",
      "6  continu    member  percent   economi    financi   continu\n",
      "7   credit      rate     year      rate   treasuri    recent\n",
      "8     sale     feder  increas  forecast       fund    sector\n",
      "9   consum      risk   remain       gdp      secur    market\n",
      "LDA model with 6 topics saved as lda_model_6_topics.pkl\n",
      "CountVectorizer saved as count_vectorizer.pkl\n"
     ]
    }
   ],
   "source": [
    "import joblib\n",
    "from sklearn.feature_extraction.text import CountVectorizer\n",
    "from sklearn.decomposition import LatentDirichletAllocation as LDA\n",
    "\n",
    "# Assuming the vectorizer and LDA model are already defined as per your script\n",
    "# Vectorizer and model fitting\n",
    "\n",
    "paras = fed_mins.get_paras(flatten=True,stem=True)\n",
    "def return_self(x):return x\n",
    "\n",
    "\n",
    "vectorizer = CountVectorizer(tokenizer=return_self, lowercase=False, preprocessor=return_self)\n",
    "bag_of_words = vectorizer.fit_transform((doc.stem for doc in paras))\n",
    "\n",
    "num_topics_6 = 6\n",
    "lda_model_6 = LDA(n_components=num_topics_6, max_iter=20, learning_method='online', random_state=10, n_jobs=-1)\n",
    "lda_transform_6 = lda_model_6.fit_transform(bag_of_words)\n",
    "\n",
    "# Function to summarize topics\n",
    "def summarize_topics(model, feature_names, no_top_words):\n",
    "    topics = pd.DataFrame()\n",
    "    for topic_idx, topic in enumerate(model.components_):\n",
    "        top_words = [feature_names[i] for i in topic.argsort()[:-no_top_words - 1:-1]]\n",
    "        topics[\"Topic %d:\" % (topic_idx)] = top_words\n",
    "    return topics\n",
    "\n",
    "topics_6 = summarize_topics(lda_model_6, vectorizer.get_feature_names_out(), 10)\n",
    "print(\"Topics for 6 topics:\")\n",
    "print(topics_6)\n",
    "\n",
    "# Save the model and vectorizer as .pkl files\n",
    "joblib_file_lda = \"lda_model_6_topics.pkl\"\n",
    "joblib_file_vectorizer = \"count_vectorizer.pkl\"\n",
    "joblib.dump(lda_model_6, joblib_file_lda)\n",
    "joblib.dump(vectorizer, joblib_file_vectorizer)\n",
    "\n",
    "print(f\"LDA model with 6 topics saved as {joblib_file_lda}\")\n",
    "print(f\"CountVectorizer saved as {joblib_file_vectorizer}\")\n"
   ]
  },
  {
   "cell_type": "code",
   "execution_count": 32,
   "metadata": {
    "tags": []
   },
   "outputs": [
    {
     "data": {
      "text/html": [
       "<div>\n",
       "<style scoped>\n",
       "    .dataframe tbody tr th:only-of-type {\n",
       "        vertical-align: middle;\n",
       "    }\n",
       "\n",
       "    .dataframe tbody tr th {\n",
       "        vertical-align: top;\n",
       "    }\n",
       "\n",
       "    .dataframe thead th {\n",
       "        text-align: right;\n",
       "    }\n",
       "</style>\n",
       "<table border=\"1\" class=\"dataframe\">\n",
       "  <thead>\n",
       "    <tr style=\"text-align: right;\">\n",
       "      <th></th>\n",
       "      <th>term</th>\n",
       "      <th>count</th>\n",
       "    </tr>\n",
       "  </thead>\n",
       "  <tbody>\n",
       "    <tr>\n",
       "      <th>0</th>\n",
       "      <td>inflat</td>\n",
       "      <td>8917</td>\n",
       "    </tr>\n",
       "    <tr>\n",
       "      <th>1</th>\n",
       "      <td>rate</td>\n",
       "      <td>8116</td>\n",
       "    </tr>\n",
       "    <tr>\n",
       "      <th>2</th>\n",
       "      <td>price</td>\n",
       "      <td>7188</td>\n",
       "    </tr>\n",
       "    <tr>\n",
       "      <th>3</th>\n",
       "      <td>market</td>\n",
       "      <td>7030</td>\n",
       "    </tr>\n",
       "    <tr>\n",
       "      <th>4</th>\n",
       "      <td>particip</td>\n",
       "      <td>6949</td>\n",
       "    </tr>\n",
       "  </tbody>\n",
       "</table>\n",
       "</div>"
      ],
      "text/plain": [
       "       term  count\n",
       "0    inflat   8917\n",
       "1      rate   8116\n",
       "2     price   7188\n",
       "3    market   7030\n",
       "4  particip   6949"
      ]
     },
     "execution_count": 32,
     "metadata": {},
     "output_type": "execute_result"
    }
   ],
   "source": [
    "## What are the most frequently used words\n",
    "term_counts = {i:j for i, j in zip(vectorizer.get_feature_names_out(), bag_of_words.toarray().sum(axis=0))}\n",
    "df_term_counts = pd.DataFrame(sorted(term_counts.items(), key=lambda x: x[1], reverse=True), columns=['term', 'count'])\n",
    "df_term_counts.head(5)\n"
   ]
  },
  {
   "cell_type": "code",
   "execution_count": 34,
   "metadata": {
    "tags": []
   },
   "outputs": [
    {
     "data": {
      "text/html": [
       "<div>\n",
       "<style scoped>\n",
       "    .dataframe tbody tr th:only-of-type {\n",
       "        vertical-align: middle;\n",
       "    }\n",
       "\n",
       "    .dataframe tbody tr th {\n",
       "        vertical-align: top;\n",
       "    }\n",
       "\n",
       "    .dataframe thead th {\n",
       "        text-align: right;\n",
       "    }\n",
       "</style>\n",
       "<table border=\"1\" class=\"dataframe\">\n",
       "  <thead>\n",
       "    <tr style=\"text-align: right;\">\n",
       "      <th></th>\n",
       "      <th>Topic 0:</th>\n",
       "      <th>Topic 1:</th>\n",
       "      <th>Topic 2:</th>\n",
       "      <th>Topic 3:</th>\n",
       "      <th>Topic 4:</th>\n",
       "      <th>Topic 5:</th>\n",
       "    </tr>\n",
       "  </thead>\n",
       "  <tbody>\n",
       "    <tr>\n",
       "      <th>0</th>\n",
       "      <td>quarter</td>\n",
       "      <td>inflat</td>\n",
       "      <td>inflat</td>\n",
       "      <td>growth</td>\n",
       "      <td>market</td>\n",
       "      <td>particip</td>\n",
       "    </tr>\n",
       "    <tr>\n",
       "      <th>1</th>\n",
       "      <td>loan</td>\n",
       "      <td>committe</td>\n",
       "      <td>price</td>\n",
       "      <td>econom</td>\n",
       "      <td>period</td>\n",
       "      <td>busi</td>\n",
       "    </tr>\n",
       "    <tr>\n",
       "      <th>2</th>\n",
       "      <td>increas</td>\n",
       "      <td>particip</td>\n",
       "      <td>labor</td>\n",
       "      <td>project</td>\n",
       "      <td>rate</td>\n",
       "      <td>spend</td>\n",
       "    </tr>\n",
       "    <tr>\n",
       "      <th>3</th>\n",
       "      <td>real</td>\n",
       "      <td>polici</td>\n",
       "      <td>month</td>\n",
       "      <td>year</td>\n",
       "      <td>yield</td>\n",
       "      <td>price</td>\n",
       "    </tr>\n",
       "    <tr>\n",
       "      <th>4</th>\n",
       "      <td>remain</td>\n",
       "      <td>would</td>\n",
       "      <td>rate</td>\n",
       "      <td>staff</td>\n",
       "      <td>intermeet</td>\n",
       "      <td>growth</td>\n",
       "    </tr>\n",
       "    <tr>\n",
       "      <th>5</th>\n",
       "      <td>declin</td>\n",
       "      <td>econom</td>\n",
       "      <td>measur</td>\n",
       "      <td>quarter</td>\n",
       "      <td>bank</td>\n",
       "      <td>note</td>\n",
       "    </tr>\n",
       "    <tr>\n",
       "      <th>6</th>\n",
       "      <td>continu</td>\n",
       "      <td>member</td>\n",
       "      <td>percent</td>\n",
       "      <td>economi</td>\n",
       "      <td>financi</td>\n",
       "      <td>continu</td>\n",
       "    </tr>\n",
       "    <tr>\n",
       "      <th>7</th>\n",
       "      <td>credit</td>\n",
       "      <td>rate</td>\n",
       "      <td>year</td>\n",
       "      <td>rate</td>\n",
       "      <td>treasuri</td>\n",
       "      <td>recent</td>\n",
       "    </tr>\n",
       "    <tr>\n",
       "      <th>8</th>\n",
       "      <td>sale</td>\n",
       "      <td>feder</td>\n",
       "      <td>increas</td>\n",
       "      <td>forecast</td>\n",
       "      <td>fund</td>\n",
       "      <td>sector</td>\n",
       "    </tr>\n",
       "    <tr>\n",
       "      <th>9</th>\n",
       "      <td>consum</td>\n",
       "      <td>risk</td>\n",
       "      <td>remain</td>\n",
       "      <td>gdp</td>\n",
       "      <td>secur</td>\n",
       "      <td>market</td>\n",
       "    </tr>\n",
       "  </tbody>\n",
       "</table>\n",
       "</div>"
      ],
      "text/plain": [
       "  Topic 0:  Topic 1: Topic 2:  Topic 3:   Topic 4:  Topic 5:\n",
       "0  quarter    inflat   inflat    growth     market  particip\n",
       "1     loan  committe    price    econom     period      busi\n",
       "2  increas  particip    labor   project       rate     spend\n",
       "3     real    polici    month      year      yield     price\n",
       "4   remain     would     rate     staff  intermeet    growth\n",
       "5   declin    econom   measur   quarter       bank      note\n",
       "6  continu    member  percent   economi    financi   continu\n",
       "7   credit      rate     year      rate   treasuri    recent\n",
       "8     sale     feder  increas  forecast       fund    sector\n",
       "9   consum      risk   remain       gdp      secur    market"
      ]
     },
     "execution_count": 34,
     "metadata": {},
     "output_type": "execute_result"
    }
   ],
   "source": [
    "df_results = summarize_topics(lda_model_6, vectorizer.get_feature_names_out(), 10)\n",
    "df_results\n"
   ]
  },
  {
   "cell_type": "code",
   "execution_count": 36,
   "metadata": {
    "tags": []
   },
   "outputs": [
    {
     "data": {
      "text/html": [
       "\n",
       "<link rel=\"stylesheet\" type=\"text/css\" href=\"https://cdn.jsdelivr.net/gh/bmabey/pyLDAvis@3.4.0/pyLDAvis/js/ldavis.v1.0.0.css\">\n",
       "\n",
       "\n",
       "<div id=\"ldavis_el2170355851010724772912145\" style=\"background-color:white;\"></div>\n",
       "<script type=\"text/javascript\">\n",
       "\n",
       "var ldavis_el2170355851010724772912145_data = {\"mdsDat\": {\"x\": [0.04599768703916929, 0.2419601337872121, -0.21250934006324393, -0.001859046746079428, 0.007536313383234593, -0.08112574740029194], \"y\": [-0.10512358516732914, -0.01617699263069887, -0.027030755154597904, -0.06489351370452774, 0.22763655534697785, -0.014411708689824396], \"topics\": [1, 2, 3, 4, 5, 6], \"cluster\": [1, 1, 1, 1, 1, 1], \"Freq\": [21.794738772086426, 21.179456805456727, 16.360838518397316, 13.771225004094346, 13.656523117554336, 13.237217782410852]}, \"tinfo\": {\"Term\": [\"inflat\", \"committe\", \"price\", \"particip\", \"growth\", \"quarter\", \"percent\", \"member\", \"polici\", \"project\", \"econom\", \"yield\", \"labor\", \"would\", \"fund\", \"real\", \"staff\", \"period\", \"measur\", \"loan\", \"treasuri\", \"month\", \"gdp\", \"forecast\", \"economi\", \"busi\", \"market\", \"year\", \"unemploy\", \"consum\", \"contact\", \"district\", \"save\", \"shortag\", \"social\", \"downturn\", \"reopen\", \"anecdot\", \"hardship\", \"variant\", \"human\", \"tremend\", \"execut\", \"correct\", \"expens\", \"tariff\", \"forese\", \"buoyant\", \"wave\", \"war\", \"underpin\", \"attack\", \"pent\", \"store\", \"holiday\", \"plant\", \"vaccin\", \"steel\", \"inhibit\", \"pictur\", \"burden\", \"chain\", \"bottleneck\", \"cautiou\", \"effort\", \"profit\", \"inde\", \"damp\", \"durabl\", \"prospect\", \"busi\", \"go\", \"household\", \"hous\", \"cite\", \"report\", \"comment\", \"demand\", \"spend\", \"note\", \"sector\", \"mani\", \"evid\", \"particip\", \"suppli\", \"cost\", \"factor\", \"high\", \"strength\", \"number\", \"invest\", \"sever\", \"weak\", \"activ\", \"could\", \"like\", \"recent\", \"firm\", \"growth\", \"pressur\", \"price\", \"continu\", \"consum\", \"market\", \"econom\", \"remain\", \"increas\", \"would\", \"condit\", \"product\", \"level\", \"appropri\", \"goal\", \"maximum\", \"guidanc\", \"warrant\", \"monitor\", \"decid\", \"remov\", \"mandat\", \"languag\", \"symmetr\", \"concur\", \"describ\", \"tool\", \"dual\", \"attain\", \"sep\", \"achiev\", \"reiter\", \"reaffirm\", \"converg\", \"evolut\", \"evalu\", \"threshold\", \"felt\", \"manner\", \"convey\", \"imped\", \"wait\", \"argu\", \"committe\", \"stanc\", \"postmeet\", \"promot\", \"member\", \"consid\", \"agre\", \"statement\", \"target\", \"assess\", \"emphas\", \"evolv\", \"polici\", \"monetari\", \"object\", \"judg\", \"rang\", \"depend\", \"would\", \"maintain\", \"feder\", \"risk\", \"progress\", \"inflat\", \"outlook\", \"particip\", \"adjust\", \"fund\", \"econom\", \"view\", \"longer\", \"could\", \"percent\", \"discuss\", \"time\", \"rate\", \"expect\", \"condit\", \"meet\", \"note\", \"market\", \"continu\", \"term\", \"labor\", \"singl\", \"card\", \"delinqu\", \"c\", \"mine\", \"sloo\", \"aircraft\", \"nondefens\", \"automot\", \"book\", \"score\", \"permit\", \"assembl\", \"origin\", \"multifamili\", \"automak\", \"properti\", \"conform\", \"cmb\", \"rig\", \"student\", \"intellectu\", \"nonprim\", \"revolv\", \"pend\", \"e\", \"bea\", \"jumbo\", \"factori\", \"outlet\", \"famili\", \"vehicl\", \"motor\", \"shipment\", \"defens\", \"loan\", \"home\", \"estat\", \"offic\", \"cre\", \"residenti\", \"mortgag\", \"auto\", \"sale\", \"quarter\", \"good\", \"commerci\", \"new\", \"industri\", \"octob\", \"juli\", \"real\", \"issuanc\", \"credit\", \"equip\", \"third\", \"fourth\", \"standard\", \"manufactur\", \"construct\", \"first\", \"export\", \"januari\", \"februari\", \"april\", \"august\", \"declin\", \"product\", \"increas\", \"remain\", \"consum\", \"spend\", \"continu\", \"month\", \"busi\", \"level\", \"pace\", \"rose\", \"rate\", \"year\", \"indic\", \"assum\", \"m3\", \"m2\", \"latin\", \"veloc\", \"asia\", \"counterbalanc\", \"mr\", \"greenspan\", \"further\", \"messr\", \"kelley\", \"mcdonough\", \"unrevis\", \"rivlin\", \"meyer\", \"phillip\", \"india\", \"ms\", \"tuesday\", \"none\", \"jordan\", \"gdp\", \"centuri\", \"presid\", \"presumpt\", \"forecast\", \"mse\", \"continent\", \"overbuild\", \"america\", \"mexico\", \"civilian\", \"project\", \"direct\", \"addendum\", \"tilt\", \"staff\", \"bia\", \"g\", \"foreign\", \"skew\", \"baselin\", \"prepar\", \"canada\", \"finish\", \"tendenc\", \"growth\", \"japan\", \"economi\", \"china\", \"kingdom\", \"revis\", \"domest\", \"half\", \"advanc\", \"expans\", \"dollar\", \"real\", \"exchang\", \"econom\", \"year\", \"emerg\", \"next\", \"quarter\", \"second\", \"output\", \"activ\", \"potenti\", \"meet\", \"somewhat\", \"expect\", \"rate\", \"slow\", \"anticip\", \"inflat\", \"pace\", \"price\", \"continu\", \"would\", \"period\", \"moder\", \"unemploy\", \"increas\", \"polici\", \"market\", \"yield\", \"treasuri\", \"investor\", \"matur\", \"sovereign\", \"mb\", \"grade\", \"overnight\", \"swap\", \"p\", \"valuat\", \"protect\", \"curv\", \"quot\", \"mutual\", \"rrp\", \"repo\", \"specul\", \"downgrad\", \"minut\", \"default\", \"ecb\", \"repurchas\", \"auction\", \"bond\", \"collater\", \"inflow\", \"outflow\", \"vix\", \"bid\", \"leverag\", \"paper\", \"spread\", \"municip\", \"bill\", \"corpor\", \"facil\", \"secur\", \"intermeet\", \"institut\", \"volatil\", \"deposit\", \"bank\", \"equiti\", \"liquid\", \"period\", \"european\", \"asset\", \"impli\", \"market\", \"fund\", \"financi\", \"debt\", \"agenc\", \"index\", \"net\", \"rate\", \"term\", \"credit\", \"declin\", \"increas\", \"feder\", \"remain\", \"price\", \"condit\", \"expect\", \"chang\", \"year\", \"cpi\", \"hourli\", \"hour\", \"claim\", \"median\", \"hispan\", \"african\", \"dalla\", \"workweek\", \"profession\", \"white\", \"thomson\", \"turnov\", \"calcul\", \"adp\", \"educ\", \"apparel\", \"employe\", \"eci\", \"fill\", \"nonhous\", \"processor\", \"overst\", \"pce\", \"chip\", \"women\", \"michigan\", \"nonbusi\", \"popul\", \"\\u2011\", \"four\", \"\\u2013\", \"forc\", \"core\", \"american\", \"compens\", \"job\", \"measur\", \"food\", \"payrol\", \"total\", \"nonfarm\", \"unemploy\", \"energi\", \"percent\", \"price\", \"survey\", \"labor\", \"month\", \"wage\", \"inflat\", \"employ\", \"worker\", \"averag\", \"base\", \"consum\", \"chang\", \"year\", \"rate\", \"run\", \"end\", \"expect\", \"remain\", \"recent\", \"increas\", \"declin\", \"longer\", \"index\", \"market\", \"continu\", \"level\", \"littl\", \"quarter\"], \"Freq\": [8974.0, 3817.0, 6996.0, 7490.0, 5261.0, 4782.0, 2917.0, 2788.0, 4490.0, 1952.0, 6615.0, 1488.0, 3571.0, 4780.0, 2462.0, 2690.0, 1832.0, 3481.0, 2266.0, 1766.0, 1205.0, 3478.0, 1300.0, 1317.0, 2599.0, 3501.0, 6932.0, 4726.0, 1839.0, 3544.0, 693.6943998283444, 330.00544239507155, 163.18440416826166, 166.81860231174485, 104.28225657540028, 90.58858682317995, 83.55423638083319, 271.9309215894966, 56.95433932537228, 57.72815423113955, 45.021745257471785, 43.85004831371935, 44.57087795588315, 45.15666502465485, 40.52368689830241, 39.04610326726939, 36.76785250152936, 34.62195996885904, 34.27090443352461, 69.28014668741686, 30.381964585498157, 28.061273992999862, 27.56577762022847, 25.445562527895966, 51.06414145826532, 23.50755343908957, 119.78709432791845, 22.47225373700797, 23.51000134268792, 22.320466176723972, 52.71508688030998, 159.40333266569644, 109.26526620427981, 97.52249561041461, 102.17749887591242, 207.060941282435, 150.4873760589233, 150.46415392319142, 185.4944291027664, 468.2570637021535, 2222.216013189487, 162.52685440648955, 1140.111574158372, 951.6955387805982, 310.5895136780094, 983.1369836476422, 466.7034545781218, 1180.2117693275416, 1709.158116011146, 1426.4652990126308, 1331.4826914083535, 798.3659528717535, 414.8923608978665, 3352.10700912911, 602.1367106548619, 642.0852463255754, 613.3566419302866, 815.9152129492383, 314.9487083137634, 585.9063578818503, 834.2908338954697, 785.0405511561133, 558.1197158621649, 1291.719908005507, 861.0461159930637, 976.5133080156722, 1354.5467950598293, 636.1306223496746, 1462.9910075459802, 715.0539600049568, 1549.126562789181, 1367.3026801480846, 1012.499147528439, 1303.7618868634368, 1161.6413965762408, 991.5749846939017, 1011.9338490385005, 925.6453151260023, 820.9067747930861, 712.6571278671287, 711.1095990410014, 1112.4039670047546, 470.3635673502956, 376.46270619489775, 264.18121853831167, 247.72078119244384, 245.97833300584048, 171.23683751342884, 162.62032676082003, 158.73672808956496, 133.95647672464023, 124.90610305092319, 123.35942957314055, 121.30316315458506, 102.33967790074327, 97.75124078738685, 87.78115049066687, 85.96134218942431, 285.08822259782335, 84.16590830456725, 81.55470914286283, 73.60471057783076, 73.44590961476338, 74.78686018229418, 69.35710181845144, 67.91872077361687, 56.91800156979113, 56.15260574065626, 53.69284860366839, 52.38556291339222, 47.811200187881546, 3699.292675116738, 713.4683802141278, 108.34452402935676, 157.3155260363628, 2582.1647503787635, 137.48206641394492, 1188.788180105125, 507.30969601184535, 921.8607825999032, 928.402680537392, 252.5541408035494, 158.132194232995, 3394.2954638671263, 1618.5559409128955, 870.0246270646654, 763.3443064897173, 1228.9282436663868, 281.39430589220024, 3024.165828628803, 540.8233552934468, 1963.8601164760612, 1860.2642529644074, 414.46612200390854, 4206.268554863176, 1595.5036649950853, 3464.2920735745697, 460.78616128326524, 1343.7642515641435, 2745.8771355754325, 802.7502713222585, 1113.5567115264196, 1001.758828750738, 1309.2374260955123, 679.9859463202017, 935.4014393467503, 2392.7331534392115, 1686.354681782264, 1319.9260673816475, 1059.3751681356741, 1024.8864556161366, 1451.1513725327375, 1082.2473734554308, 961.0683098202211, 932.1258429421978, 286.37916204881634, 245.26824032801102, 278.1015487134581, 219.73368216431717, 222.7408476832101, 186.53343098202802, 201.313488134417, 193.0199954187748, 145.2406695911305, 144.1955151996807, 124.81869010343503, 159.672522837819, 121.48399656666471, 121.46090172333926, 166.84765213399365, 83.04531216534764, 195.35140903926654, 77.24767422544278, 230.48635642417688, 60.86830579259299, 57.89017636003911, 55.517192363367485, 38.14726799311797, 28.736407079804874, 27.695634245829652, 24.77405203585866, 24.0498017004948, 23.1532109590989, 137.48236763136273, 22.815422637158882, 277.0974047427429, 703.5838708642269, 668.9105922878942, 296.25408552401797, 96.75684248797941, 1501.159276580884, 879.7543178018025, 274.20343248991287, 196.2720464521575, 286.9692981980186, 421.90981332295206, 901.2512998026641, 260.7737276796128, 1063.1608519727397, 2633.228647233811, 845.5900376751839, 549.3680811024153, 753.548493159071, 806.4836369360518, 651.7060161962926, 683.4210855818365, 1372.036085773936, 515.2150732449069, 1129.2605414103714, 554.5405776212414, 603.7810002410978, 640.8191227711146, 401.4588046045088, 601.9144576670085, 570.419027644197, 819.7807014688651, 618.7221163207199, 581.2616548381467, 499.3080570909083, 574.453559050956, 512.2023607172498, 1242.5559931721507, 895.9466861610514, 1465.0203460447435, 1297.71949174792, 1030.6625023071438, 929.3585160747749, 1235.403029188432, 945.5000045393779, 935.2275507345786, 875.6882333575118, 809.9227722959982, 660.1212686847784, 848.2888424858235, 698.8781732221004, 664.1351670767655, 220.03165933622267, 212.45245582436425, 370.97269600000874, 74.8033864191309, 47.32302314361691, 143.69397603502821, 32.50280314501603, 29.495478345113447, 24.190580116431164, 22.391294971929778, 22.391060843973555, 21.502495848550883, 21.5014647652339, 19.156329724406188, 18.836776843654388, 18.83634161122148, 18.294618911466006, 18.20159896173497, 17.946582607778733, 17.413192968262152, 17.15960641249752, 17.059831324081394, 1236.471166972566, 22.90083479312471, 76.09696618534898, 15.423877362065031, 1245.7258017511208, 14.394916831305439, 13.506630485511181, 13.499361719751606, 68.33962857611033, 106.08746988696512, 78.75523123206236, 1747.5051746500671, 407.3017735484046, 56.58069108022618, 158.54324619706807, 1470.2024404666886, 39.135310357456206, 30.330930067231108, 1057.6678492579326, 80.74727122766892, 85.85051453406801, 305.9353386706868, 140.0126435583095, 67.99466000506489, 60.87148211500892, 2814.743169170258, 204.37017955449394, 1404.9789682912158, 229.2148078917178, 110.2674700631489, 344.8513817772946, 500.9099501563692, 422.4987021741715, 384.4581469181676, 595.4552176883237, 536.3904583399753, 1164.9341745917034, 219.8310660837647, 2169.3183185773987, 1624.9605202827036, 339.7374087708879, 355.1150373597279, 1442.402479787343, 526.7619432083577, 452.87441754461855, 964.7400196270711, 446.65535168653105, 725.6861900819814, 589.4056785249167, 1011.1736160492668, 1252.926365145189, 536.4976434750649, 480.2063911143476, 1038.3389781696776, 642.5064980125017, 892.7599329089736, 758.956771054937, 702.6598851531204, 591.9628288824755, 516.5756482542326, 491.5107106734954, 559.7150687338329, 532.434196097147, 550.1397034634398, 1487.7738165095957, 1204.5370261817307, 553.2726258310835, 343.1685103542259, 242.45573514462424, 218.15550713397548, 367.9075276648173, 176.7571275647278, 163.44191837529237, 144.89941451132094, 143.23840464311655, 120.92276226800712, 115.51780512861089, 104.78592563784059, 96.53091923436429, 90.0170574971383, 88.29666939178861, 251.40393397020551, 83.55692683380943, 93.08265274905825, 130.94964711199862, 74.52953582197084, 70.37842155462583, 69.53553186808165, 956.8527903669054, 62.162195365139745, 60.88319471313165, 59.463891804549725, 58.44600559282873, 57.88624599810036, 363.1591898814118, 139.89205224842212, 947.8839367105154, 181.0837335567434, 89.7281123695175, 760.3150079108583, 226.01423350036416, 1009.6982904658519, 1377.2515204889953, 249.2060879922126, 391.01497409696486, 218.8568278512712, 1325.9986104249995, 725.0042682740245, 369.9537255685526, 1906.5627832385142, 217.20452463102865, 573.8344342983326, 337.43865679564686, 2462.2690814535767, 1117.628504277669, 1268.8545981940777, 460.0690816805991, 318.7544802788504, 639.1657854780703, 610.3286112289759, 1534.8632211766064, 851.9363842484888, 664.8918167437553, 786.7544489486534, 901.8689425250869, 678.4490483707142, 782.7292044251501, 688.6705955954867, 583.4416037660336, 617.4175920558517, 499.53244925189443, 471.44571145887613, 290.6726937589784, 263.96100394875936, 151.94255767574072, 147.68794433043755, 104.04896276719745, 94.3619836505876, 94.25220252194435, 55.44611452298003, 51.5552938237951, 48.23525867858538, 35.75789379195752, 32.220933885594675, 29.45931026330326, 24.432000714413093, 24.05621918783116, 20.84576932189584, 20.924495226384792, 130.81003387496457, 17.71545122164783, 17.563791268601936, 16.4704088717632, 16.070756509244475, 15.140940691056313, 899.1255223706673, 13.989875785594908, 12.468117355201644, 176.79931810443134, 12.151125669022262, 116.71330033392738, 172.19243886876353, 118.40615870051192, 82.50703504474565, 362.1556281770355, 1019.2715498490945, 120.18153652619486, 662.0440041182095, 604.5046340294721, 1603.812695672818, 428.17835529121726, 444.32275336264286, 523.9213795923876, 262.9359906193017, 1110.558320566324, 1080.094857030192, 1586.3457327172678, 3352.200497277294, 813.9326991292971, 1809.4222222348074, 1721.4231552881317, 439.97305034834153, 3649.5833085848512, 1037.8055343036826, 357.11684833092346, 604.287048006146, 473.9867429227794, 1177.9321766559856, 825.7422225480382, 1334.0676854762407, 1639.163117664465, 651.8601420865672, 548.054037373412, 1177.77437349399, 1221.692101750145, 993.0933460855875, 1244.6467706392862, 901.9205813477896, 685.9052698616747, 562.198279027984, 943.8774422441315, 818.0737822414272, 641.0893814186585, 566.5508170473795, 569.7677180522777], \"Total\": [8974.0, 3817.0, 6996.0, 7490.0, 5261.0, 4782.0, 2917.0, 2788.0, 4490.0, 1952.0, 6615.0, 1488.0, 3571.0, 4780.0, 2462.0, 2690.0, 1832.0, 3481.0, 2266.0, 1766.0, 1205.0, 3478.0, 1300.0, 1317.0, 2599.0, 3501.0, 6932.0, 4726.0, 1839.0, 3544.0, 694.5543362373396, 330.864426717848, 164.045039072437, 167.8863135868105, 105.15694672064903, 91.45372505285498, 84.41953363710354, 275.573556752397, 57.815336644627386, 58.64227830886513, 45.88278022683879, 44.7124205521549, 45.47496468294507, 46.078595506234215, 41.386810796075686, 39.91961433973361, 37.65001094394043, 35.483735907655166, 35.165556666008094, 71.16830339744979, 31.242434836675734, 28.921161366171265, 28.42583807763819, 26.30866387297906, 52.926554600317075, 24.369878431409663, 124.23492271083572, 23.332124148519192, 24.409760238459313, 23.18073331824047, 54.93683055003943, 172.89444621471532, 118.93517012368565, 105.90520751913469, 111.36029127877697, 233.5839447463791, 170.76001485660373, 172.9537243281584, 220.48475189720892, 615.4192851942945, 3501.25306398044, 193.66160172945408, 1693.3390842522656, 1407.5386239994168, 402.60802995368925, 1474.7968122142654, 641.2050133925289, 1860.9420307832643, 2911.6817050753607, 2498.233740772691, 2304.4345256423157, 1264.6782631674942, 587.413214265766, 7490.713205568497, 980.4149068186557, 1091.0054977870798, 1044.3651743466648, 1514.475999692162, 447.90131004535465, 1023.3258563441199, 1640.4956475404067, 1513.5565070286736, 974.674694972764, 3208.185096166489, 1875.460184032178, 2274.4405784667642, 3822.473393858497, 1320.8067680905408, 5261.04928559955, 1609.7869950411578, 6996.309986602591, 5588.96369595609, 3544.102467447884, 6932.056389364934, 6615.220616649398, 5475.425461446162, 5911.367891923475, 4780.308172237537, 3647.937015984419, 2315.103898499927, 3325.9313425500513, 1113.277256803555, 471.23716211421487, 377.33690756592364, 265.0531522880565, 248.59507086055154, 246.8550862346924, 172.11248694317112, 163.49495215828875, 159.6104921034307, 134.8288287350855, 125.78080920507193, 124.23282451746816, 122.17949456230222, 103.21291271641999, 98.6246010251324, 88.65830565734103, 86.83746191387709, 287.99582379578806, 85.04217455487377, 82.43035681631956, 74.47851240307526, 74.31990246341036, 75.71315183922862, 70.22870721139226, 68.80102961070067, 57.7921304481633, 57.031664557568654, 54.56707000261398, 53.26338920321062, 48.68968866131112, 3817.37922194574, 728.0250711138162, 110.51646281452427, 161.26871985128997, 2788.0366258300865, 141.25292222204118, 1302.3294665210115, 544.1323594028125, 1024.871597126736, 1051.8461986352468, 270.6321457011098, 165.78935088279712, 4490.348436211126, 2070.192538089891, 1058.4883349469937, 945.5030527758657, 1665.3980137341323, 318.3574733399481, 4780.308172237537, 680.7522723821135, 3014.9522405231683, 2967.536458577132, 525.1818994668358, 8974.714207810754, 2722.62674311069, 7490.713205568497, 609.6270187143233, 2462.101319617336, 6615.220616649398, 1351.7061251725306, 2183.6898478152325, 1875.460184032178, 2917.6466420622155, 1091.8211362629186, 1813.1059237691056, 8109.4251902528895, 5083.222543030661, 3647.937015984419, 2528.2230488203118, 2498.233740772691, 6932.056389364934, 5588.96369595609, 3245.6511824488452, 3571.010760114258, 287.2431709633926, 246.13217195860892, 279.1584195967655, 220.59860613676494, 223.62785795318345, 187.39486569716388, 202.27441007961176, 193.9687336429214, 146.10606509989012, 145.05862256331238, 125.6850449728704, 160.78726766524878, 122.34610805862096, 122.32531314395726, 168.05110063302507, 83.9064969743989, 197.51253704493837, 78.11091759505477, 233.3521438853084, 61.733099485301224, 58.7644479652857, 56.378358147279734, 39.01423741622684, 29.597591978447326, 28.5613232333521, 25.644736476855858, 24.93834401983488, 24.017719653603436, 142.9459264409859, 23.725756313684293, 292.61127893252586, 752.6268541096346, 720.1818597489123, 323.9443532417035, 103.23255258665459, 1766.9020588084684, 1026.421327650741, 310.5562395065095, 220.8020844161192, 340.3635826004494, 523.7531029472192, 1247.0269252680237, 307.52002993449116, 1603.5988112511488, 4782.563272788558, 1276.8372736038536, 757.4570645403853, 1120.3234406658726, 1291.827834943256, 1003.5894860706658, 1072.5039920456625, 2690.410444480942, 753.8278370108535, 2179.8980590223005, 843.6271262701277, 949.9611157434715, 1056.3486778200229, 544.1074752763892, 986.88082010563, 939.0193027724299, 1676.8329386238677, 1083.9740708770144, 985.3090982633072, 783.2345085966188, 1009.9037483588164, 832.695866771818, 3979.0025309781927, 2315.103898499927, 5911.367891923475, 5475.425461446162, 3544.102467447884, 2911.6817050753607, 5588.96369595609, 3478.9836107996935, 3501.25306398044, 3325.9313425500513, 2807.5710330918337, 1527.9732364603137, 8109.4251902528895, 4726.544981301493, 2872.0110653569895, 220.89052931849682, 213.3843601303773, 374.609850614181, 75.6600747361775, 48.179378947670266, 147.30021762050157, 33.35656960903968, 30.355309534085798, 25.04761995123762, 23.247654079856343, 23.247625984823785, 22.35911481055946, 22.359019044303132, 20.01072572261091, 19.693589129816992, 19.69354459722275, 19.150425965465907, 19.058178200010115, 18.804928169836586, 18.28132979442599, 18.019988384080595, 17.91658836803724, 1300.7987860120788, 24.128789698100356, 80.3537437525893, 16.293511615000586, 1317.551648892761, 15.251126478112464, 14.362643149980203, 14.362476592835856, 72.86081859051296, 113.85976265971304, 84.74625001703913, 1952.5125513108208, 460.451462569544, 61.18642220714294, 178.73540694505198, 1832.418033366492, 42.17635341317571, 32.404289520553824, 1366.763258621239, 91.42374318627591, 100.61454374359803, 403.6750837037429, 172.90065999098306, 79.79362181241083, 70.68797523288016, 5261.04928559955, 279.3186808674415, 2599.6855282852985, 333.1628258774198, 141.460997136147, 547.4464724341597, 854.6268414034655, 700.6600345752738, 637.5968608555888, 1100.5402131654728, 980.7840524624607, 2690.410444480942, 330.2747194696811, 6615.220616649398, 4726.544981301493, 601.2854101337272, 658.8380689865253, 4782.563272788558, 1252.5264113262062, 999.976392007304, 3208.185096166489, 1043.1971134795665, 2528.2230488203118, 1768.736383942163, 5083.222543030661, 8109.4251902528895, 1618.5672750877395, 1358.4761836562845, 8974.714207810754, 2807.5710330918337, 6996.309986602591, 5588.96369595609, 4780.308172237537, 3481.620941743677, 2138.0641838666998, 1839.4477411157384, 5911.367891923475, 4490.348436211126, 6932.056389364934, 1488.6472715420898, 1205.4102784312608, 554.1518922832157, 344.0414504412659, 243.32618567202724, 219.0318750224273, 369.41620950195363, 177.627540042412, 164.31169262468353, 145.76922546762475, 144.11284667064163, 121.79714746754141, 116.38945581121294, 105.6570633794939, 97.40588686842634, 90.88788482533627, 89.16798961352688, 253.95591937748637, 84.43053817812573, 94.08860528628156, 132.3864396703279, 75.4015438621704, 71.24947483545262, 70.40630431972345, 969.8157235627365, 63.0326328013356, 61.765998935950826, 60.335046522113004, 59.315951571305575, 58.75645596943078, 369.92972646412693, 143.27588641731901, 1013.2811296045667, 188.90978051934624, 92.24372519773843, 857.9703494676976, 248.00079771839384, 1297.2990535297715, 1943.337733645546, 291.9587413533543, 495.47702311979623, 253.1347474093419, 2108.9070434656714, 1057.302290644703, 476.75393380342376, 3481.620941743677, 256.45511920671885, 920.6875189907378, 458.44994500696714, 6932.056389364934, 2462.101319617336, 2944.6062034033353, 737.6029194693812, 443.5128806872327, 1361.1314341728014, 1346.734002026739, 8109.4251902528895, 3245.6511824488452, 2179.8980590223005, 3979.0025309781927, 5911.367891923475, 3014.9522405231683, 5475.425461446162, 6996.309986602591, 3647.937015984419, 5083.222543030661, 2153.1723693212357, 4726.544981301493, 291.54384099773387, 264.8346231915962, 152.8131183849281, 148.55880300966064, 104.92921908780916, 95.23070650871998, 95.12065491374398, 56.31520645493876, 52.42661161570099, 49.104715197620564, 36.6250549920211, 33.0903788675148, 30.331657790112363, 25.302696328142652, 24.92429571959204, 21.719155088494077, 21.90158912561999, 137.0876206228721, 18.589254671658683, 18.434152195714166, 17.34008009932251, 16.9391984986614, 16.013484980357976, 955.7467930342331, 14.882227875652102, 13.339325872074607, 189.21083120288392, 13.01934179626769, 125.28983457962461, 185.11925928913408, 131.44516507945764, 91.27722659575016, 415.8810125386993, 1257.407702196541, 139.253423218351, 844.1528312069787, 793.613256314517, 2266.2154718521037, 552.0364526136257, 620.0592321541433, 762.8626585878039, 356.7992318018819, 1839.4477411157384, 1782.7740338067974, 2917.6466420622155, 6996.309986602591, 1343.839065639419, 3571.010760114258, 3478.9836107996935, 674.897709328791, 8974.714207810754, 1967.9184634522035, 565.4437208059254, 1212.0079851301587, 892.2937648086486, 3544.102467447884, 2153.1723693212357, 4726.544981301493, 8109.4251902528895, 1711.4793675684077, 1279.7440401734812, 5083.222543030661, 5475.425461446162, 3822.473393858497, 5911.367891923475, 3979.0025309781927, 2183.6898478152325, 1361.1314341728014, 6932.056389364934, 5588.96369595609, 3325.9313425500513, 1771.6390217185738, 4782.563272788558], \"Category\": [\"Default\", \"Default\", \"Default\", \"Default\", \"Default\", \"Default\", \"Default\", \"Default\", \"Default\", \"Default\", \"Default\", \"Default\", \"Default\", \"Default\", \"Default\", \"Default\", \"Default\", \"Default\", \"Default\", \"Default\", \"Default\", \"Default\", \"Default\", \"Default\", \"Default\", \"Default\", \"Default\", \"Default\", \"Default\", \"Default\", \"Topic1\", \"Topic1\", \"Topic1\", \"Topic1\", \"Topic1\", \"Topic1\", \"Topic1\", \"Topic1\", \"Topic1\", \"Topic1\", \"Topic1\", \"Topic1\", \"Topic1\", \"Topic1\", \"Topic1\", \"Topic1\", \"Topic1\", \"Topic1\", \"Topic1\", \"Topic1\", \"Topic1\", \"Topic1\", \"Topic1\", \"Topic1\", \"Topic1\", \"Topic1\", \"Topic1\", \"Topic1\", \"Topic1\", \"Topic1\", \"Topic1\", \"Topic1\", \"Topic1\", \"Topic1\", \"Topic1\", \"Topic1\", \"Topic1\", \"Topic1\", \"Topic1\", \"Topic1\", \"Topic1\", \"Topic1\", \"Topic1\", \"Topic1\", \"Topic1\", \"Topic1\", \"Topic1\", \"Topic1\", \"Topic1\", \"Topic1\", \"Topic1\", \"Topic1\", \"Topic1\", \"Topic1\", \"Topic1\", \"Topic1\", \"Topic1\", \"Topic1\", \"Topic1\", \"Topic1\", \"Topic1\", \"Topic1\", \"Topic1\", \"Topic1\", \"Topic1\", \"Topic1\", \"Topic1\", \"Topic1\", \"Topic1\", \"Topic1\", \"Topic1\", \"Topic1\", \"Topic1\", \"Topic1\", \"Topic1\", \"Topic1\", \"Topic1\", \"Topic1\", \"Topic1\", \"Topic1\", \"Topic1\", \"Topic2\", \"Topic2\", \"Topic2\", \"Topic2\", \"Topic2\", \"Topic2\", \"Topic2\", \"Topic2\", \"Topic2\", \"Topic2\", \"Topic2\", \"Topic2\", \"Topic2\", \"Topic2\", \"Topic2\", \"Topic2\", \"Topic2\", \"Topic2\", \"Topic2\", \"Topic2\", \"Topic2\", \"Topic2\", \"Topic2\", \"Topic2\", \"Topic2\", \"Topic2\", \"Topic2\", \"Topic2\", \"Topic2\", \"Topic2\", \"Topic2\", \"Topic2\", \"Topic2\", \"Topic2\", \"Topic2\", \"Topic2\", \"Topic2\", \"Topic2\", \"Topic2\", \"Topic2\", \"Topic2\", \"Topic2\", \"Topic2\", \"Topic2\", \"Topic2\", \"Topic2\", \"Topic2\", \"Topic2\", \"Topic2\", \"Topic2\", \"Topic2\", \"Topic2\", \"Topic2\", \"Topic2\", \"Topic2\", \"Topic2\", \"Topic2\", \"Topic2\", \"Topic2\", \"Topic2\", \"Topic2\", \"Topic2\", \"Topic2\", \"Topic2\", \"Topic2\", \"Topic2\", \"Topic2\", \"Topic2\", \"Topic2\", \"Topic2\", \"Topic2\", \"Topic2\", \"Topic2\", \"Topic2\", \"Topic3\", \"Topic3\", \"Topic3\", \"Topic3\", \"Topic3\", \"Topic3\", \"Topic3\", \"Topic3\", \"Topic3\", \"Topic3\", \"Topic3\", \"Topic3\", \"Topic3\", \"Topic3\", \"Topic3\", \"Topic3\", \"Topic3\", \"Topic3\", \"Topic3\", \"Topic3\", \"Topic3\", \"Topic3\", \"Topic3\", \"Topic3\", \"Topic3\", \"Topic3\", \"Topic3\", \"Topic3\", \"Topic3\", \"Topic3\", \"Topic3\", \"Topic3\", \"Topic3\", \"Topic3\", \"Topic3\", \"Topic3\", \"Topic3\", \"Topic3\", \"Topic3\", \"Topic3\", \"Topic3\", \"Topic3\", \"Topic3\", \"Topic3\", \"Topic3\", \"Topic3\", \"Topic3\", \"Topic3\", \"Topic3\", \"Topic3\", \"Topic3\", \"Topic3\", \"Topic3\", \"Topic3\", \"Topic3\", \"Topic3\", \"Topic3\", \"Topic3\", \"Topic3\", \"Topic3\", \"Topic3\", \"Topic3\", \"Topic3\", \"Topic3\", \"Topic3\", \"Topic3\", \"Topic3\", \"Topic3\", \"Topic3\", \"Topic3\", \"Topic3\", \"Topic3\", \"Topic3\", \"Topic3\", \"Topic3\", \"Topic3\", \"Topic3\", \"Topic3\", \"Topic3\", \"Topic3\", \"Topic3\", \"Topic4\", \"Topic4\", \"Topic4\", \"Topic4\", \"Topic4\", \"Topic4\", \"Topic4\", \"Topic4\", \"Topic4\", \"Topic4\", \"Topic4\", \"Topic4\", \"Topic4\", \"Topic4\", \"Topic4\", \"Topic4\", \"Topic4\", \"Topic4\", \"Topic4\", \"Topic4\", \"Topic4\", \"Topic4\", \"Topic4\", \"Topic4\", \"Topic4\", \"Topic4\", \"Topic4\", \"Topic4\", \"Topic4\", \"Topic4\", \"Topic4\", \"Topic4\", \"Topic4\", \"Topic4\", \"Topic4\", \"Topic4\", \"Topic4\", \"Topic4\", \"Topic4\", \"Topic4\", \"Topic4\", \"Topic4\", \"Topic4\", \"Topic4\", \"Topic4\", \"Topic4\", \"Topic4\", \"Topic4\", \"Topic4\", \"Topic4\", \"Topic4\", \"Topic4\", \"Topic4\", \"Topic4\", \"Topic4\", \"Topic4\", \"Topic4\", \"Topic4\", \"Topic4\", \"Topic4\", \"Topic4\", \"Topic4\", \"Topic4\", \"Topic4\", \"Topic4\", \"Topic4\", \"Topic4\", \"Topic4\", \"Topic4\", \"Topic4\", \"Topic4\", \"Topic4\", \"Topic4\", \"Topic4\", \"Topic4\", \"Topic4\", \"Topic4\", \"Topic4\", \"Topic4\", \"Topic4\", \"Topic4\", \"Topic4\", \"Topic4\", \"Topic4\", \"Topic4\", \"Topic4\", \"Topic5\", \"Topic5\", \"Topic5\", \"Topic5\", \"Topic5\", \"Topic5\", \"Topic5\", \"Topic5\", \"Topic5\", \"Topic5\", \"Topic5\", \"Topic5\", \"Topic5\", \"Topic5\", \"Topic5\", \"Topic5\", \"Topic5\", \"Topic5\", \"Topic5\", \"Topic5\", \"Topic5\", \"Topic5\", \"Topic5\", \"Topic5\", \"Topic5\", \"Topic5\", \"Topic5\", \"Topic5\", \"Topic5\", \"Topic5\", \"Topic5\", \"Topic5\", \"Topic5\", \"Topic5\", \"Topic5\", \"Topic5\", \"Topic5\", \"Topic5\", \"Topic5\", \"Topic5\", \"Topic5\", \"Topic5\", \"Topic5\", \"Topic5\", \"Topic5\", \"Topic5\", \"Topic5\", \"Topic5\", \"Topic5\", \"Topic5\", \"Topic5\", \"Topic5\", \"Topic5\", \"Topic5\", \"Topic5\", \"Topic5\", \"Topic5\", \"Topic5\", \"Topic5\", \"Topic5\", \"Topic5\", \"Topic5\", \"Topic5\", \"Topic5\", \"Topic5\", \"Topic5\", \"Topic5\", \"Topic5\", \"Topic6\", \"Topic6\", \"Topic6\", \"Topic6\", \"Topic6\", \"Topic6\", \"Topic6\", \"Topic6\", \"Topic6\", \"Topic6\", \"Topic6\", \"Topic6\", \"Topic6\", \"Topic6\", \"Topic6\", \"Topic6\", \"Topic6\", \"Topic6\", \"Topic6\", \"Topic6\", \"Topic6\", \"Topic6\", \"Topic6\", \"Topic6\", \"Topic6\", \"Topic6\", \"Topic6\", \"Topic6\", \"Topic6\", \"Topic6\", \"Topic6\", \"Topic6\", \"Topic6\", \"Topic6\", \"Topic6\", \"Topic6\", \"Topic6\", \"Topic6\", \"Topic6\", \"Topic6\", \"Topic6\", \"Topic6\", \"Topic6\", \"Topic6\", \"Topic6\", \"Topic6\", \"Topic6\", \"Topic6\", \"Topic6\", \"Topic6\", \"Topic6\", \"Topic6\", \"Topic6\", \"Topic6\", \"Topic6\", \"Topic6\", \"Topic6\", \"Topic6\", \"Topic6\", \"Topic6\", \"Topic6\", \"Topic6\", \"Topic6\", \"Topic6\", \"Topic6\", \"Topic6\", \"Topic6\", \"Topic6\", \"Topic6\", \"Topic6\", \"Topic6\", \"Topic6\", \"Topic6\"], \"logprob\": [30.0, 29.0, 28.0, 27.0, 26.0, 25.0, 24.0, 23.0, 22.0, 21.0, 20.0, 19.0, 18.0, 17.0, 16.0, 15.0, 14.0, 13.0, 12.0, 11.0, 10.0, 9.0, 8.0, 7.0, 6.0, 5.0, 4.0, 3.0, 2.0, 1.0, -5.2989, -6.0418, -6.7461, -6.724, -7.1938, -7.3346, -7.4154, -6.2354, -7.7987, -7.7852, -8.0338, -8.0602, -8.0439, -8.0308, -8.1391, -8.1762, -8.2363, -8.2965, -8.3066, -7.6028, -8.4271, -8.5065, -8.5244, -8.6044, -7.9079, -8.6836, -7.0552, -8.7287, -8.6835, -8.7354, -7.876, -6.7695, -7.1472, -7.2609, -7.2142, -6.5079, -6.8271, -6.8272, -6.6179, -5.6919, -4.1347, -6.7501, -4.8021, -4.9827, -6.1025, -4.9502, -5.6952, -4.7675, -4.3972, -4.578, -4.6469, -5.1584, -5.8129, -3.7236, -5.4405, -5.3762, -5.422, -5.1366, -6.0885, -5.4678, -5.1144, -5.1752, -5.5164, -4.6772, -5.0828, -4.957, -4.6297, -5.3855, -4.5527, -5.2686, -4.4955, -4.6203, -4.9208, -4.6679, -4.7834, -4.9416, -4.9213, -5.0104, -5.1305, -5.2719, -5.2741, -4.798, -5.6588, -5.8815, -6.2357, -6.3, -6.3071, -6.6693, -6.7209, -6.7451, -6.9148, -6.9847, -6.9972, -7.014, -7.184, -7.2299, -7.3375, -7.3584, -6.1595, -7.3795, -7.411, -7.5136, -7.5158, -7.4977, -7.573, -7.594, -7.7707, -7.7842, -7.829, -7.8537, -7.945, -3.5964, -5.2422, -7.127, -6.754, -3.9559, -6.8888, -4.7316, -5.5832, -4.9859, -4.9788, -6.2807, -6.7489, -3.6825, -4.423, -5.0438, -5.1746, -4.6984, -6.1725, -3.7979, -5.5192, -4.2296, -4.2838, -5.7853, -3.468, -4.4374, -3.662, -5.6794, -4.6091, -3.8944, -5.1243, -4.797, -4.9028, -4.6351, -5.2902, -4.9713, -4.0321, -4.382, -4.627, -4.8469, -4.88, -4.5322, -4.8255, -4.9443, -4.9748, -5.8968, -6.0518, -5.9262, -6.1617, -6.1482, -6.3256, -6.2493, -6.2914, -6.5758, -6.583, -6.7273, -6.481, -6.7544, -6.7546, -6.4371, -7.1348, -6.2794, -7.2071, -6.114, -7.4454, -7.4956, -7.5375, -7.9127, -8.196, -8.2329, -8.3444, -8.374, -8.412, -6.6307, -8.4267, -5.9298, -4.998, -5.0485, -5.8629, -6.982, -4.2402, -4.7745, -5.9403, -6.2747, -5.8948, -5.5094, -4.7504, -5.9905, -4.5852, -3.6782, -4.8141, -5.2454, -4.9294, -4.8615, -5.0746, -5.0271, -4.3301, -5.3096, -4.5248, -5.236, -5.151, -5.0914, -5.5591, -5.154, -5.2078, -4.8451, -5.1265, -5.189, -5.3409, -5.2007, -5.3154, -4.4292, -4.7563, -4.2645, -4.3858, -4.6162, -4.7197, -4.435, -4.7024, -4.7134, -4.7792, -4.8572, -5.0617, -4.8109, -5.0047, -5.0557, -5.9881, -6.0231, -5.4657, -7.067, -7.5249, -6.4142, -7.9005, -7.9976, -8.1959, -8.2732, -8.2732, -8.3137, -8.3137, -8.4292, -8.446, -8.4461, -8.4752, -8.4803, -8.4945, -8.5246, -8.5393, -8.5451, -4.2618, -8.2507, -7.0498, -8.6459, -4.2544, -8.715, -8.7787, -8.7792, -7.1574, -6.7176, -7.0155, -3.9159, -5.3723, -7.3462, -6.3158, -4.0887, -7.7148, -7.9697, -4.418, -6.9905, -6.9292, -5.6585, -6.4401, -7.1624, -7.2731, -3.4392, -6.0619, -4.1341, -5.9472, -6.6789, -5.5387, -5.1654, -5.3357, -5.43, -4.9925, -5.097, -4.3214, -5.989, -3.6997, -3.9886, -5.5537, -5.5094, -4.1078, -5.1151, -5.2662, -4.51, -5.2801, -4.7947, -5.0027, -4.463, -4.2486, -5.0968, -5.2076, -4.4365, -4.9165, -4.5875, -4.7499, -4.827, -4.9984, -5.1346, -5.1844, -5.0544, -5.1044, -5.0717, -4.0685, -4.2796, -5.0576, -5.5353, -5.8827, -5.9883, -5.4657, -6.1987, -6.277, -6.3974, -6.409, -6.5783, -6.6241, -6.7216, -6.8036, -6.8735, -6.8928, -5.8464, -6.948, -6.84, -6.4987, -7.0623, -7.1196, -7.1317, -4.5098, -7.2437, -7.2645, -7.2881, -7.3054, -7.315, -5.4786, -6.4326, -4.5193, -6.1745, -6.8767, -4.7398, -5.9529, -4.4561, -4.1456, -5.8552, -5.4047, -5.9851, -4.1836, -4.7873, -5.4601, -3.8204, -5.9926, -5.0211, -5.5521, -3.5647, -4.3545, -4.2276, -5.2421, -5.6091, -4.9133, -4.9595, -4.0373, -4.626, -4.8739, -4.7056, -4.569, -4.8537, -4.7107, -4.8387, -5.0045, -4.9479, -5.1598, -5.2177, -5.6701, -5.7665, -6.3188, -6.3472, -6.6974, -6.7952, -6.7963, -7.3269, -7.3996, -7.4662, -7.7655, -7.8697, -7.9593, -8.1464, -8.1619, -8.3052, -8.3014, -6.4686, -8.4679, -8.4765, -8.5407, -8.5653, -8.6249, -4.5409, -8.704, -8.8191, -6.1673, -8.8449, -6.5826, -6.1937, -6.5682, -6.9294, -5.4502, -4.4155, -6.5533, -4.847, -4.9379, -3.9622, -5.2828, -5.2458, -5.081, -5.7704, -4.3297, -4.3575, -3.9731, -3.2249, -4.6404, -3.8415, -3.8914, -5.2556, -3.1399, -4.3974, -5.4642, -4.9383, -5.1811, -4.2708, -4.626, -4.1463, -3.9404, -4.8625, -5.0359, -4.2709, -4.2343, -4.4415, -4.2157, -4.5378, -4.8116, -5.0104, -4.4923, -4.6354, -4.8791, -5.0027, -4.9971], \"loglift\": [30.0, 29.0, 28.0, 27.0, 26.0, 25.0, 24.0, 23.0, 22.0, 21.0, 20.0, 19.0, 18.0, 17.0, 16.0, 15.0, 14.0, 13.0, 12.0, 11.0, 10.0, 9.0, 8.0, 7.0, 6.0, 5.0, 4.0, 3.0, 2.0, 1.0, 1.5223, 1.5209, 1.5182, 1.5171, 1.5151, 1.514, 1.5132, 1.5102, 1.5085, 1.5078, 1.5046, 1.504, 1.5034, 1.5033, 1.5024, 1.5014, 1.4998, 1.4989, 1.4977, 1.4966, 1.4956, 1.4933, 1.4928, 1.4901, 1.4877, 1.4875, 1.487, 1.486, 1.4859, 1.4857, 1.4822, 1.4423, 1.4387, 1.441, 1.4374, 1.403, 1.3971, 1.3842, 1.3507, 1.2502, 1.0689, 1.3482, 1.1279, 1.1321, 1.264, 1.118, 1.2058, 1.0681, 0.9908, 0.9631, 0.975, 1.0635, 1.1758, 0.7194, 1.036, 0.9934, 0.9913, 0.905, 1.1713, 0.9658, 0.8473, 0.867, 0.966, 0.6138, 0.745, 0.678, 0.4861, 0.7929, 0.2437, 0.712, 0.0158, 0.1155, 0.2706, -0.1474, -0.216, -0.1852, -0.2415, -0.1183, 0.032, 0.3453, -0.0192, 1.5514, 1.5503, 1.5498, 1.5488, 1.5486, 1.5486, 1.547, 1.5468, 1.5466, 1.5456, 1.5452, 1.5451, 1.5449, 1.5436, 1.5432, 1.5422, 1.542, 1.542, 1.5418, 1.5415, 1.5403, 1.5403, 1.5398, 1.5396, 1.5392, 1.5369, 1.5366, 1.536, 1.5355, 1.5339, 1.5207, 1.5319, 1.5323, 1.5273, 1.4754, 1.5251, 1.4609, 1.4821, 1.4462, 1.4273, 1.483, 1.5049, 1.2723, 1.306, 1.3561, 1.3381, 1.2482, 1.4287, 1.0943, 1.322, 1.1235, 1.0851, 1.3154, 0.7943, 1.0177, 0.781, 1.2722, 0.9466, 0.6729, 1.0311, 0.8787, 0.925, 0.7508, 1.0786, 0.8903, 0.3315, 0.4488, 0.5356, 0.6823, 0.6611, -0.0117, -0.0896, 0.3351, 0.209, 1.8073, 1.8068, 1.8065, 1.8064, 1.8063, 1.8057, 1.8055, 1.8054, 1.8043, 1.8043, 1.8034, 1.8033, 1.8032, 1.8032, 1.8031, 1.8, 1.7993, 1.7992, 1.7979, 1.7962, 1.7953, 1.7949, 1.7878, 1.7808, 1.7795, 1.7757, 1.774, 1.7736, 1.7713, 1.7712, 1.7558, 1.7429, 1.7364, 1.7209, 1.7455, 1.6473, 1.6561, 1.6858, 1.6925, 1.6396, 1.5941, 1.4855, 1.6454, 1.3993, 1.2135, 1.3982, 1.4891, 1.4137, 1.3391, 1.3785, 1.3596, 1.1369, 1.4297, 1.1526, 1.3907, 1.3571, 1.3105, 1.5062, 1.3158, 1.3118, 1.0947, 1.2495, 1.2825, 1.3601, 1.2461, 1.3243, 0.6464, 0.861, 0.4153, 0.3706, 0.5752, 0.6683, 0.3009, 0.5075, 0.4902, 0.4758, 0.5671, 0.971, -0.4473, -0.1012, 0.346, 1.9787, 1.9782, 1.9728, 1.9712, 1.9647, 1.9578, 1.9567, 1.9539, 1.9478, 1.9451, 1.945, 1.9435, 1.9435, 1.939, 1.9381, 1.9381, 1.9369, 1.9366, 1.9359, 1.9339, 1.9337, 1.9336, 1.9319, 1.9304, 1.9282, 1.9277, 1.9265, 1.9248, 1.9211, 1.9206, 1.9185, 1.9119, 1.9093, 1.8717, 1.8599, 1.9043, 1.8627, 1.7624, 1.9078, 1.9165, 1.7262, 1.8584, 1.8239, 1.7054, 1.7716, 1.8226, 1.8331, 1.3571, 1.6702, 1.3672, 1.6086, 1.7335, 1.5204, 1.4484, 1.4768, 1.4767, 1.3684, 1.3791, 1.1456, 1.5755, 0.8676, 0.9149, 1.4117, 1.3646, 0.7839, 1.1164, 1.1905, 0.781, 1.1343, 0.7344, 0.8837, 0.3678, 0.115, 0.8784, 0.9427, -0.1742, 0.5079, -0.0762, -0.014, 0.0652, 0.2108, 0.5622, 0.6629, -0.3746, -0.1496, -0.5512, 1.9904, 1.9902, 1.9894, 1.9884, 1.9874, 1.9869, 1.9869, 1.986, 1.9856, 1.985, 1.9849, 1.9837, 1.9834, 1.9827, 1.9819, 1.9813, 1.9811, 1.9809, 1.9806, 1.9802, 1.98, 1.9793, 1.9787, 1.9785, 1.9775, 1.977, 1.9766, 1.9764, 1.9762, 1.976, 1.9725, 1.9671, 1.9242, 1.9486, 1.9633, 1.8701, 1.8981, 1.7403, 1.6466, 1.8326, 1.7542, 1.8454, 1.5269, 1.6137, 1.7373, 1.3888, 1.8248, 1.5182, 1.6845, 0.9559, 1.2011, 1.1491, 1.5189, 1.6606, 1.235, 1.1995, 0.3264, 0.6534, 0.8035, 0.3701, 0.1108, 0.4994, 0.0457, -0.3274, 0.158, -0.1172, 0.5299, -0.3142, 2.0191, 2.0188, 2.0164, 2.0163, 2.0137, 2.013, 2.013, 2.0066, 2.0054, 2.0043, 1.9982, 1.9955, 1.993, 1.9871, 1.9867, 1.9811, 1.9765, 1.9753, 1.974, 1.9738, 1.9707, 1.9695, 1.9661, 1.9611, 1.9603, 1.9546, 1.9543, 1.9531, 1.9512, 1.9498, 1.9177, 1.9211, 1.8838, 1.8122, 1.8748, 1.7791, 1.75, 1.6764, 1.7681, 1.6889, 1.6464, 1.7169, 1.5175, 1.521, 1.4128, 1.2864, 1.5207, 1.3423, 1.3185, 1.5943, 1.1223, 1.3823, 1.5626, 1.3262, 1.3895, 0.9206, 1.0637, 0.7572, 0.4233, 1.0569, 1.1741, 0.5598, 0.5221, 0.6743, 0.4641, 0.5379, 0.8641, 1.1379, 0.0282, 0.1005, 0.3758, 0.882, -0.1054]}, \"token.table\": {\"Topic\": [2, 6, 1, 2, 3, 4, 5, 6, 4, 5, 1, 2, 3, 4, 5, 6, 6, 1, 2, 3, 4, 5, 6, 6, 2, 3, 5, 1, 2, 6, 3, 4, 5, 4, 5, 6, 1, 4, 1, 2, 4, 5, 6, 6, 2, 2, 3, 4, 5, 6, 2, 1, 4, 3, 1, 2, 4, 5, 2, 3, 5, 4, 1, 2, 5, 1, 3, 4, 5, 6, 1, 3, 3, 3, 2, 3, 4, 5, 6, 1, 2, 3, 4, 5, 6, 1, 2, 3, 5, 6, 2, 4, 3, 1, 2, 4, 5, 1, 5, 3, 5, 3, 1, 3, 1, 1, 5, 1, 2, 3, 4, 5, 6, 3, 6, 4, 5, 3, 1, 2, 5, 1, 4, 1, 3, 4, 1, 2, 3, 4, 5, 6, 1, 4, 5, 6, 1, 2, 3, 5, 6, 4, 6, 6, 3, 5, 5, 1, 2, 5, 1, 3, 5, 2, 4, 6, 2, 5, 6, 2, 1, 2, 3, 4, 5, 6, 3, 2, 5, 1, 3, 4, 6, 1, 3, 4, 6, 1, 4, 1, 2, 3, 4, 5, 6, 2, 2, 1, 2, 4, 6, 1, 3, 5, 1, 1, 2, 3, 4, 5, 6, 1, 2, 4, 4, 6, 1, 3, 1, 2, 3, 4, 5, 5, 6, 1, 2, 3, 4, 6, 1, 2, 3, 4, 5, 2, 1, 2, 3, 4, 5, 6, 3, 5, 1, 3, 3, 1, 2, 3, 4, 5, 6, 1, 2, 4, 5, 2, 1, 2, 3, 4, 5, 1, 2, 6, 1, 1, 2, 4, 5, 6, 1, 2, 3, 4, 5, 6, 5, 1, 2, 1, 2, 3, 4, 6, 3, 5, 6, 1, 2, 4, 5, 6, 1, 2, 4, 5, 6, 1, 2, 4, 5, 1, 2, 4, 5, 1, 2, 1, 2, 4, 5, 6, 1, 6, 1, 2, 3, 4, 5, 6, 1, 2, 4, 6, 1, 3, 4, 1, 3, 4, 5, 1, 3, 5, 4, 5, 2, 1, 2, 3, 4, 5, 6, 2, 2, 5, 1, 2, 4, 5, 1, 1, 2, 3, 4, 5, 6, 1, 2, 3, 4, 5, 6, 1, 1, 3, 4, 1, 5, 1, 2, 3, 4, 5, 6, 3, 4, 1, 3, 3, 4, 5, 6, 1, 2, 3, 4, 5, 6, 2, 6, 1, 2, 4, 5, 3, 4, 5, 6, 1, 2, 3, 4, 5, 6, 1, 2, 3, 4, 5, 6, 1, 4, 6, 1, 2, 6, 2, 4, 6, 1, 4, 5, 1, 3, 6, 1, 3, 4, 6, 2, 5, 4, 4, 5, 3, 4, 1, 2, 2, 1, 3, 4, 6, 3, 5, 4, 1, 2, 3, 4, 5, 6, 2, 1, 3, 4, 5, 6, 1, 1, 2, 3, 4, 5, 6, 6, 1, 5, 1, 3, 4, 6, 6, 1, 2, 3, 4, 6, 1, 2, 3, 4, 5, 6, 1, 2, 1, 2, 4, 5, 1, 2, 3, 4, 5, 6, 1, 2, 4, 6, 3, 4, 5, 6, 4, 1, 2, 3, 4, 5, 6, 1, 3, 4, 5, 6, 2, 4, 5, 6, 5, 1, 1, 3, 5, 3, 1, 2, 3, 4, 5, 6, 1, 3, 4, 5, 6, 5, 3, 5, 1, 2, 3, 4, 5, 6, 3, 4, 5, 1, 6, 4, 1, 2, 4, 5, 6, 1, 2, 3, 4, 5, 6, 3, 4, 4, 5, 1, 2, 4, 6, 2, 4, 1, 2, 3, 4, 5, 6, 3, 5, 1, 2, 3, 4, 5, 6, 1, 3, 4, 5, 1, 2, 3, 4, 5, 6, 3, 5, 1, 2, 4, 5, 6, 3, 4, 5, 4, 1, 2, 3, 4, 5, 2, 1, 2, 3, 4, 5, 6, 2, 1, 3, 4, 1, 2, 3, 4, 5, 6, 5, 2, 5, 4, 1, 2, 3, 4, 5, 6, 6, 1, 2, 4, 5, 6, 1, 2, 4, 4, 4, 5, 4, 3, 6, 3, 5, 1, 2, 3, 4, 5, 6, 2, 4, 5, 2, 1, 2, 3, 4, 5, 6, 1, 2, 3, 5, 1, 3, 4, 4, 4, 4, 1, 3, 3, 5, 5, 1, 3, 4, 5, 6, 1, 2, 3, 5, 6, 1, 2, 3, 4, 5, 6, 6, 3, 4, 3, 6, 6, 3, 1, 2, 5, 6, 1, 2, 3, 4, 5, 6, 2, 6, 2, 3, 4, 5, 6, 1, 3, 5, 3, 5, 3, 1, 2, 4, 5, 1, 2, 3, 4, 4, 5, 6, 5, 1, 2, 3, 4, 5, 6, 3, 5, 1, 2, 5, 6, 1, 3, 6, 3, 4, 6, 3, 1, 2, 5, 6, 1, 2, 3, 4, 5, 6, 3, 4, 1, 1, 1, 2, 4, 5, 1, 6, 2, 5, 1, 2, 4, 5, 2, 4, 2, 4, 5, 1, 2, 4, 5, 6, 4, 1, 2, 3, 4, 5, 6, 6, 1, 3, 4, 6, 6, 1, 5, 1, 2, 5, 6, 1, 2, 4, 1, 2, 1, 3, 1, 2, 4, 5, 5, 1, 2, 3, 4, 5, 6, 5, 1, 2, 3, 4, 5, 6, 1, 2, 3, 4, 5, 6, 2, 1, 2, 3, 4, 5, 1, 2, 3, 4, 5, 6, 2, 1, 2, 3, 4, 5, 6, 2, 1, 5, 1, 3, 5, 6, 5, 1, 3, 4, 1, 2, 3, 4, 5, 6, 3, 3, 1, 2, 4, 5, 4, 3, 4, 5, 6, 5, 1, 2, 3, 4, 5, 6, 1, 3, 4, 1, 3, 1, 3, 4, 5, 6, 1, 3, 4, 5, 6, 2, 3, 5, 2, 1, 2, 3, 4, 5, 6, 1, 3, 1, 3, 2, 4, 3, 1, 2, 3, 4, 5, 6, 1, 1, 2, 3, 4, 5, 6, 5, 3, 5, 1, 2, 3, 4, 6, 1, 3, 5, 4, 5, 6, 2, 4, 5, 1, 2, 3, 5, 2, 5, 1, 1, 1, 2, 3, 4, 3, 1, 2, 3, 4, 5, 6, 1, 3, 5, 6, 5, 2, 2, 4, 5, 1, 1, 4, 1, 2, 3, 4, 5, 6, 1, 3, 4, 6, 6, 2, 2, 4, 1, 2, 3, 4, 5, 6, 2, 2, 3, 4, 5, 6, 5, 1, 4, 6, 1, 1, 2, 4, 6, 4, 1, 5, 5, 1, 1, 3, 4, 1, 2, 4, 5, 6, 5, 1, 2, 3, 4, 5, 6, 1, 2, 6, 2, 1, 2, 2, 1, 1, 2, 3, 4, 5, 6, 6, 6, 1, 6, 6, 1, 2, 3, 4, 5, 6, 1, 2, 3, 4, 5, 6, 5, 4, 6, 4, 5, 6], \"Freq\": [0.989597683201433, 0.006944545145273214, 0.4027199058881706, 0.17205989787172613, 0.09101719235243484, 0.300793118561985, 0.005298946130107508, 0.028364946931751952, 0.9315792285914339, 0.06537398095378484, 0.1328681267618772, 0.7562000794719185, 0.04264902834331861, 0.052491111807161366, 0.004921041731921379, 0.011482430707816548, 0.9629158741337881, 0.11449240810571365, 0.010978724064931446, 0.15056535860477413, 0.6022614344190965, 0.0690091226938548, 0.05332523117252417, 0.9882185954800228, 0.2254725947193413, 0.054113422732641914, 0.7192575771546987, 0.08139261433066086, 0.9129794192373186, 0.005374983965232322, 0.9936995980899899, 0.9332862478826737, 0.05489919105192198, 0.05026806406779615, 0.08617382411622197, 0.8617382411622196, 0.9870322944098449, 0.010886385600108583, 0.23776640612915154, 0.346712003983995, 0.35333707412381654, 0.05520891783184633, 0.007361189044246178, 0.9588345338573935, 0.9988527055630129, 0.0029705801219920883, 0.5683709966744862, 0.1406074591076255, 0.04455870182988132, 0.24259737662935388, 0.9858350159905798, 0.020366568688507173, 0.9775952970483444, 0.9889975408292025, 0.03897908273395562, 0.8822582628563613, 0.02757057071426129, 0.04943688541867542, 0.36820310149486274, 0.0076030138951741575, 0.6234471394042809, 0.9959684585788068, 0.9681492262876851, 0.9925747999303602, 0.9942291486018302, 0.0012009186545824755, 0.6148703511462275, 0.016812861164154657, 0.09367165505743309, 0.27260853459022194, 0.14958375234874638, 0.8487252035439741, 0.9891963434646128, 0.9924297112571342, 0.0354783141097723, 0.21452003880327436, 0.17491633933190062, 0.0759070906534663, 0.49834655168145275, 0.046469568349940996, 0.02560568051935524, 0.23614127590072057, 0.019441350023954904, 0.6287617105308343, 0.0436244927366793, 0.0011207071476224525, 0.23983132959120482, 0.05379394308587772, 0.17370960788148013, 0.5312151879730425, 0.13914489376085654, 0.8547472045309757, 0.96237344311681, 0.04741993648448537, 0.023709968242242686, 0.9246887614474647, 0.9871255684681809, 0.021681691580784455, 0.9756761211353004, 0.012373484682137895, 0.9867854034004973, 0.9927021052274894, 0.9164656668557025, 0.07567147707982864, 0.9863673907134788, 0.9647444067914464, 0.036405449312884766, 0.6346299337397491, 0.0002856120313860257, 0.267047249345934, 0.05083894158671257, 0.0031417323452462825, 0.04426986486483398, 0.997286446422994, 0.9485155134753863, 0.809713508365446, 0.18507737334067337, 0.995400146394518, 0.9253558186200957, 0.05665443787469974, 0.018884812624899914, 0.04144426689079765, 0.9532181384883459, 0.9196362490588045, 0.04048713046170837, 0.028919378901220264, 0.019041671063670954, 0.17091060857148563, 0.11378559538047277, 0.08034656326866037, 0.23221550077647504, 0.38362000728273676, 0.07803991916422917, 0.6873515957157108, 0.23111822214021718, 0.9407193678914525, 0.7724634802633553, 0.17386637819432435, 0.014902832416656372, 0.03477327563886487, 0.004967610805552124, 0.9321946396933931, 0.05899966074008817, 0.9962385062457436, 0.985634827135096, 0.008570737627261705, 0.9836174889824097, 0.728316201910472, 0.25264930344645925, 0.01871476321825624, 0.002640413686303887, 0.7247935568904169, 0.27064240284614843, 0.9689893995165088, 0.0013097991342477815, 0.029339500607150307, 0.008292337289198362, 0.2061238126172164, 0.7842181836356165, 0.9900764993289288, 0.2250587102799657, 0.36184835270347715, 0.13432249456416956, 0.06387171680296226, 0.15981635577736908, 0.054825507985375325, 0.9857776911440981, 0.969891439022013, 0.021238498664715614, 0.27581967616140507, 0.6070162757220112, 0.010649408346000196, 0.10436420179080191, 0.2855447914655649, 0.29090581027766543, 0.09113731980570895, 0.33238316635023263, 0.9992018821157425, 0.9747509461738104, 0.24458917151118667, 0.19359581827001024, 0.22097119737843127, 0.13580335126334359, 0.05850816319250771, 0.14635987000449943, 0.9935751616454748, 0.9819106707550632, 0.0015905740011821455, 0.007952870005910728, 0.17973486213358245, 0.8103974536023031, 0.04312503342680264, 0.06993248663805833, 0.8858114974154055, 0.976592266010185, 0.5884479971019289, 0.06507758223401394, 0.024747812962230654, 0.003666342661071208, 0.05041221158972911, 0.2676430142581982, 0.45908732551649173, 0.5342688735975897, 0.00639842962392323, 0.9893103633491421, 0.9981346167496706, 0.15571583656238674, 0.8432159451585849, 0.1449609070901821, 0.007339792764059853, 0.5179141269139734, 0.024313063530948264, 0.30506013675623767, 0.9966538565843572, 0.976645624907881, 0.8672840124297843, 0.023127573664794246, 0.040473253913389934, 0.05203704074578706, 0.011563786832397123, 0.1952269930053844, 0.018980402097745708, 0.1531989597889475, 0.008134458041891017, 0.6236417832116447, 0.9935362798892189, 0.12515699503150915, 0.00955013215099869, 0.3123898490445098, 0.12892678403848232, 0.19778826323252552, 0.2266899789526531, 0.007553643730356566, 0.9895273286767101, 0.05812120159446344, 0.9396260924438257, 0.9958503146763805, 0.63408745704096, 0.01719559205534807, 0.16497021128099554, 0.09242630729749587, 0.05427358742469234, 0.03654063311761464, 0.1130804300659797, 0.8826555791261194, 0.13431581538278073, 0.8651518696714405, 0.9903462150786623, 0.045607412956861396, 0.05212275766498445, 0.013030689416246112, 0.8839150987353613, 0.004343563138748704, 0.3718557797751153, 0.6228126360765478, 0.005495405612440127, 0.997387368819238, 0.03670532765047981, 0.004078369738942201, 0.546501545018255, 0.405797789024749, 0.006117554608413301, 0.07956689013924559, 0.001170101325577141, 0.06084526893001133, 0.5862207641141476, 0.2199790492085025, 0.05265455965097134, 0.9949006818218141, 0.9950387471631937, 0.9936668841380333, 0.8390602906011746, 0.018141844121106476, 0.11792198678719211, 0.013606383090829859, 0.004535461030276619, 0.9748589158856155, 0.9946745936276266, 0.9683013288016832, 0.17565551737994065, 0.4151033138772091, 0.3278802213400097, 0.02766347648926776, 0.0536641210584156, 0.21387202180824028, 0.22771985055841412, 0.5404499831665065, 0.01769444784744434, 0.9668884408457005, 0.9159458800682856, 0.017959723138593835, 0.017959723138593835, 0.04489930784648459, 0.061534837493846924, 0.1180803638395441, 0.5654552634569717, 0.25445486855563726, 0.06281589334466962, 0.9348482950706714, 0.17836104824397114, 0.2794831240290146, 0.013720080634151626, 0.0010163022691964166, 0.5274608777129403, 0.04376762812527029, 0.9555932140684014, 0.005469843797085459, 0.042195937863230684, 0.07267078187556396, 0.12346218856278607, 0.327409221568401, 0.42821062868611875, 0.2580248485096856, 0.0011218471674334157, 0.13462166009200988, 0.6057974704140444, 0.34019769049970444, 0.6578735826736445, 0.0023707156132383583, 0.10403836345888001, 0.11727960971728293, 0.09174292050464875, 0.6857073955244365, 0.05796051635801285, 0.8822878601164178, 0.05796051635801285, 0.1520733924931464, 0.8461519531028915, 0.9905808723860428, 0.7064873413151371, 0.18385694665550556, 0.03064282444258426, 0.01532141222129213, 0.04426185752817727, 0.018726170492690382, 0.9822402557099671, 0.9530165789218651, 0.042222253496538326, 0.015138912260764165, 0.006055564904305666, 0.6661121394736232, 0.3118615925717418, 0.9895554688990621, 0.2744106906655963, 0.08268666506811015, 0.07087428434409442, 0.5406435792914894, 0.004543223355390668, 0.026350695461265873, 0.11567465225502982, 0.3316793600373814, 0.0003934511981463599, 0.19888958066298493, 0.12137969462815203, 0.231742755708206, 0.9906537665349087, 0.17712600804616843, 0.5710468696905118, 0.25185104269064573, 0.08467714698178352, 0.9112873913277656, 0.5869594420203462, 0.1675659092227742, 0.054578610432560744, 0.06989892213292867, 0.028725584438189865, 0.09096435072093458, 0.9584043659793229, 0.034978261532092075, 0.05126254891718954, 0.9466484033374335, 0.6371016528550262, 0.006383784096743749, 0.06511459778678624, 0.291100554811515, 0.013598888715028366, 0.6514199374711149, 0.06633604251233349, 0.009618726164288357, 0.22487918411681054, 0.03416306189385175, 0.9883573019875842, 0.9764484858807283, 0.22549704582995103, 0.2730416036856636, 0.07029802482951787, 0.43095745656356604, 0.025064659988762745, 0.8521984396179333, 0.07519397996628824, 0.03759698998314412, 0.4815238802262122, 0.112809839864317, 0.1832213506521122, 0.0007571130192236041, 0.17413599442142894, 0.046941007191863456, 0.0023854493240588978, 0.032203565874795115, 0.489017111432074, 0.27790484625286155, 0.03458901519885402, 0.1639996410290492, 0.01268032204550693, 0.21013105103982915, 0.7753111193538523, 0.10820402625573723, 0.021640805251147446, 0.8704412778794861, 0.0015179670578233137, 0.9456934770239244, 0.05236986349490432, 0.0007316556058207024, 0.7740916309583032, 0.22534992659277636, 0.9827354381142605, 0.09129282155601606, 0.8977127453008246, 0.0018933142455646195, 0.6068072157034605, 0.31239685051816224, 0.07857254119093171, 0.5458751795839527, 0.45408366873129397, 0.9463320438453439, 0.9258033564035156, 0.03086011188011719, 0.04920053792193939, 0.9501853886174544, 0.8416743357710712, 0.1549093869517309, 0.9973746507837703, 0.2396546579003914, 0.6625746424304939, 0.01957962891343067, 0.07831851565372268, 0.0027069737988709226, 0.9961663579844995, 0.9581748703758236, 0.2780814093501267, 0.058353378448727886, 0.10340142630654062, 0.535064365906088, 0.0009503807564939394, 0.02432974736624485, 0.9960266373783326, 0.015699482569557405, 0.19552991927539679, 0.6022892403957477, 0.0014272256881415822, 0.18411211377026412, 0.9858975716142759, 0.5388002187990191, 0.022450009116625792, 0.22053832485155925, 0.03103383613180624, 0.1135706343546952, 0.07329267682192538, 0.9870765790380093, 0.9635994707219137, 0.01889410726905713, 0.12470512503180799, 0.8573477345936799, 0.018510916996909, 0.9946790014265667, 0.9968485117937453, 0.6763579938538116, 0.004262760465465199, 0.2927095519619437, 0.024866102715213664, 0.0021313802327325997, 0.6732260600382908, 0.002952745877360924, 0.16535376913221175, 0.0466533848623026, 0.03307075382644235, 0.07854304033780059, 0.9807600973072156, 0.9896078348610835, 0.030537684980608385, 0.1766823202449485, 0.05453158032251497, 0.7350857027475018, 0.17119557072106192, 0.12315254494558604, 0.24782758014462025, 0.09473272688122003, 0.15258735651225083, 0.2106111517269981, 0.878425784431812, 0.0585617189621208, 0.04099320327348456, 0.01171234379242416, 0.10505965582001653, 0.012489609433148818, 0.4694623781048291, 0.41289179420174327, 0.944476424299068, 0.21100197255844294, 0.23920520651427443, 0.2311968808231124, 0.12151763766154552, 0.019150344044083105, 0.17792410557320848, 0.31815385060041945, 0.6239221498392654, 0.03096387840393377, 0.0007740969600983442, 0.025545199683245357, 0.46865002078166346, 0.11565827902314947, 0.008913932872689748, 0.40669818731646973, 0.9875983720955418, 0.9832132624631967, 0.10275424486671336, 0.04110169794668535, 0.8528602323937209, 0.9932889470407894, 0.05660364541661465, 0.06586606012115159, 0.014922779246198406, 0.06946811028402707, 0.7085747248970761, 0.08439088953022547, 0.5083829397843361, 0.23956174500628785, 0.11338036786557136, 0.11155165225483633, 0.027430734161025327, 0.997921341965522, 0.6831798651030515, 0.31572195707675005, 0.005074549711164683, 0.00608945965339762, 0.5896626764373362, 0.10047608428106072, 0.08829716497426549, 0.2100863580422179, 0.021480840384061055, 0.7303485730580759, 0.24702966441670215, 0.23689120425364177, 0.7623360562417727, 0.948841355887128, 0.14701168821392516, 0.8069778281095317, 0.028556227207021435, 0.0031729141341134926, 0.013749294581158469, 0.0009323974618431299, 0.0018647949236862598, 0.6368274664388577, 0.08205097664219542, 0.0689974121763916, 0.20885703145286108, 0.9576262997369633, 0.9839387733547544, 0.7775994954576219, 0.21914167599260254, 0.1912623752436262, 0.2609905325432791, 0.04088478299497719, 0.5065792632733818, 0.9938527335521545, 0.9912757853005149, 0.21377470752443842, 0.17288390552257676, 0.2633848717178735, 0.04570148459031595, 0.11184837018156271, 0.1927279711999508, 0.016219296722513692, 0.9812674517120783, 0.42955617713196576, 0.35876953995873495, 0.09013205354355473, 0.04924287803355185, 0.0351734843096799, 0.03693215852516389, 0.1258510853205447, 0.031462771330136176, 0.06712057883762383, 0.7760816928100256, 0.0016933472130738337, 0.014111226775615281, 0.180059253656851, 0.23932640611443518, 0.24440644775365666, 0.32004262327095456, 0.8495094521607028, 0.14998001653736592, 0.002289702452480817, 0.510145706412726, 0.06548549014095137, 0.10853189624759073, 0.3141471764803681, 0.0026694439517820426, 0.9903637061111378, 0.005338887903564085, 0.9935123636543397, 0.07491712046959302, 0.7947090622362711, 0.038193041808027815, 0.05435163641911651, 0.038193041808027815, 0.9961751129553872, 0.6309905240257243, 0.16130584824717764, 0.01660501379015064, 0.07828077929642445, 0.04507075171612317, 0.06721077010299069, 0.9862934548004975, 0.33337358807397405, 0.6100027356247185, 0.056744440523229626, 0.18811156845183472, 0.20931739710399705, 0.03188087164712843, 0.07934153577339655, 0.3551615655892769, 0.13617892685470243, 0.9969728925397502, 0.9964569923081535, 0.9952889275941155, 0.9839429876779587, 0.05383424547017738, 0.10016699771910052, 0.02691712273508869, 0.009707814756917232, 0.10149079064049833, 0.7077879486406927, 0.9911443247563717, 0.0755471318438941, 0.41887127027583165, 0.2871582079511367, 0.13013092343791183, 0.08820424293815908, 0.05559467855048411, 0.9260997420474192, 0.017933767274349713, 0.9463331874988765, 0.930969795860166, 0.06147913746246379, 0.9647831504481648, 0.06342131644214825, 0.9354644175216867, 0.9971923983043521, 0.9884299986914539, 0.17679544087230586, 0.113186499182799, 0.18147256893771077, 0.2418075209814342, 0.07764032588572162, 0.2095353373301403, 0.7820528623360831, 0.16520202527420655, 0.05265210747043425, 0.9965360801442857, 0.10060409566561528, 0.06524894204598476, 0.27191849857049155, 0.019833378859792725, 0.04771508537283467, 0.4946847104014968, 0.07056784277619839, 0.03368010677954923, 0.7225184811517585, 0.17241007041912107, 0.0680383702209378, 0.9289320342409672, 0.0027770763355484816, 0.9553518130802149, 0.9571958923444491, 0.9179649791831437, 0.0059505709646240895, 0.993745351092223, 0.03705472517492619, 0.9581293223802343, 0.9958330355435848, 0.003712685647258742, 0.36235811917245325, 0.08167908423969233, 0.45294764896556655, 0.09875743821708255, 0.2070830543919612, 0.039274372384682295, 0.6730199267738739, 0.044629968618957155, 0.03659657426754487, 0.07589118230055193, 0.1335684808489714, 0.025803001982187657, 0.5388273943339187, 0.08803377146864023, 0.13660412814099349, 0.9217055814173409, 0.9950057227021715, 0.9433968345405992, 0.26065078540202585, 0.7371092103304603, 0.9227177676431341, 0.9740034027730349, 0.5708032746203106, 0.410289871308428, 0.01801272605744318, 0.0008005656025530302, 0.5726426204977492, 0.22280293084212766, 0.1045610245618757, 0.0009772058370268756, 0.055700732710531914, 0.04397426266620941, 0.821926866150648, 0.17761178257048485, 0.005978540113539533, 0.649668025671296, 0.0358712406812372, 0.09366379511211935, 0.2152274440874232, 0.07699202679609736, 0.8876727795314755, 0.031702599268981266, 0.989165667269557, 0.9778727854030294, 0.9694106141827943, 0.23102689400653834, 0.5861986054601513, 0.15352820619194438, 0.02938338874486974, 0.09100214837805423, 0.027000637430851255, 0.42901012806796995, 0.45301069467317107, 0.905136375051398, 0.9964671016540444, 0.9367105298065281, 0.9947229913230513, 0.09794943627736344, 0.19696741185957084, 0.2885056123078705, 0.22902359100488978, 0.00890449420703304, 0.17915842344550476, 0.020938624600527082, 0.9771358146912639, 0.4474874298362094, 0.4624392771338393, 0.018289313212279442, 0.07168876784667197, 0.10966694224318166, 0.17417690826858265, 0.7160606228819508, 0.054407715912824894, 0.004185208916371146, 0.9406257039544149, 0.9803467357318858, 0.9850193307766294, 0.44864925763415564, 0.007197581673275224, 0.5435887873245002, 0.04566838339396278, 0.07783730754568499, 0.016658907149999, 0.17003574194481738, 0.5477333781904844, 0.1421751558491294, 0.9951036691108662, 0.9399268732956396, 0.949064022176064, 0.9848223111801437, 0.03964057634471528, 0.7558433489548521, 0.11847632929993555, 0.08596214870258483, 0.06385194797999205, 0.9338347392073838, 0.9772299732507042, 0.009048425678247261, 0.3220867807803624, 0.19555268833093434, 0.4284904494310179, 0.05368113013006041, 0.24029226453616911, 0.7580353912171932, 0.012444970866311083, 0.9458177858396424, 0.03733491259893325, 0.4441581415445088, 0.29755489482492264, 0.12672484038472698, 0.07392282355775741, 0.05777161841068436, 0.9206118579244933, 0.22140242541657226, 0.03902056948916994, 0.03430379735311643, 0.12763871265138738, 0.09848048490123841, 0.47910970303185946, 0.944554726202918, 0.30797753848628084, 0.3870236668775703, 0.20819799936940725, 0.09675591671939257, 0.977502869262663, 0.8861910446146313, 0.11130902009652373, 0.19231432024320547, 0.7882983027790798, 0.013328715264380576, 0.0038082043612515932, 0.009218890801964722, 0.0957740322204113, 0.8952567289907964, 0.01860249156046118, 0.973530391664135, 0.005062969748459453, 0.9872791009495934, 0.7604571570295321, 0.10724395804262632, 0.06012161284207839, 0.07149597202841755, 0.9934551220277646, 0.020072917915422688, 0.0004181857899046393, 0.5505415924094577, 0.30151195452124496, 0.008154622903140467, 0.1191829501228222, 0.9937811693939108, 0.0186141689520166, 0.7379617303880129, 0.04623519384855736, 0.007205484755619329, 0.11048409958616304, 0.07926033231181262, 0.054381166316209345, 0.2950887324142607, 0.10456968035407149, 0.15451156778732497, 0.18928591903714592, 0.20211050247679618, 0.9947791465069291, 0.00854888147166607, 0.024903263417462032, 0.5099593643098195, 0.4330194310648249, 0.02341650142238967, 0.3544825196630683, 0.11327743986281076, 0.1399617328558978, 0.12112576133136577, 0.011772482202832526, 0.2597794406091711, 0.9877452033614063, 0.18117313567409868, 0.13679302280231848, 0.23705920373485898, 0.07908061264806929, 0.14300258592018072, 0.22317900382434333, 0.9969726762095409, 0.9950303724857448, 0.9869012454066846, 0.666532495770804, 0.14307055606067104, 0.1437486155680676, 0.04610804650296507, 0.9824633818236805, 0.15847161483712346, 0.8057231501357363, 0.03436733815744846, 0.0018266626060327168, 0.09681311811973399, 0.018266626060327168, 0.6301985990812873, 0.06393319121114509, 0.18997291102740255, 0.9798094392651102, 0.9881246933749734, 0.193089455849429, 0.6267825268410784, 0.07278764827831878, 0.10715959329863597, 0.9647809688094454, 0.4319447384621401, 0.02814185417253337, 0.25327668755280036, 0.2866542355248748, 0.9902309881339789, 0.0005842898365878373, 0.4686004489434455, 0.01752869509763512, 0.13146521323226337, 0.0005842898365878373, 0.3809569734552699, 0.3311302030622652, 0.6628840034937625, 0.004988778953857103, 0.9936295600382311, 0.9945495108585252, 0.003193545432518824, 0.46865279222213746, 0.4207496107343551, 0.003193545432518824, 0.1045886129149915, 0.5775820424444518, 0.25949967045964095, 0.006075243121128718, 0.03688540466399579, 0.11933513273645698, 0.15802061941093945, 0.06320824776437578, 0.7785406127075554, 0.9903559835188681, 0.5186459814051254, 0.27418863985111724, 0.025767125190827887, 0.0891938948913273, 0.06673024728906708, 0.025767125190827887, 0.08334764822973958, 0.9137371805927006, 0.994720751394948, 0.9956720608562318, 0.10938077627848813, 0.8859842878557539, 0.9978928681119684, 0.2588709202571063, 0.06425435729531993, 0.2075910004925721, 0.3311570722143412, 0.006796133944697301, 0.13098003602507524, 0.9889979049722462, 0.11590195229833833, 0.04749153167346546, 0.15943585633234833, 0.3330060970913233, 0.19448912971038237, 0.14925909954517716, 0.994549761800751, 0.007875382487254216, 0.9883605021504043, 0.5869460240180228, 0.00034344413342189743, 0.31905959994894273, 0.08654792162231816, 0.006868882668437949, 0.04835775439647462, 0.015790287149869263, 0.9355745136297539, 0.8022186931326676, 0.1702668246648927, 0.026740623104422254, 0.9793618767952192, 0.017856527907907222, 0.0013735790698390172, 0.012865105366259164, 0.03859531609877749, 0.7369867502671321, 0.20951743025050637, 0.9317585900541452, 0.0661603732582825, 0.9429060063267434, 0.9502573038563484, 0.703279925589195, 0.040187424319382575, 0.10493383016727673, 0.14958652385547958, 0.9869913188712793, 0.6140257515600485, 0.04079905325980389, 0.18665566866360278, 0.05711867456372544, 0.026519384618872526, 0.0754782485306372, 0.04613647689316091, 0.32444361170029284, 0.023812375170663695, 0.6057272934037577, 0.9920170463602997, 0.9937923025777413, 0.8996248921180563, 0.0078058558969028745, 0.09171880678860878, 0.9769633460907892, 0.12732009893266394, 0.8629473372102777, 0.07055594921547281, 0.2960885030396042, 0.08380444622973189, 0.12847961058014046, 0.2625051036313661, 0.15836575500765512, 0.001052674665759731, 0.6358154981188775, 0.2410624984589784, 0.12211026122812879, 0.9670484622771957, 0.9825042029081671, 0.11189724711986435, 0.8895831146029216, 0.1908327558054254, 0.5156896724799791, 0.0022061590266523167, 0.09651945741603886, 0.06122091298960179, 0.1329210813558021, 0.9882484401951479, 0.02228448306995398, 0.2346424982071625, 0.0367038544681595, 0.01966277917937116, 0.6868864193326991, 0.9996596358612482, 0.9840666073686639, 0.9299104710196372, 0.9560967686195357, 0.9602324580919913, 0.002718207148938731, 0.12612481171075712, 0.2674715834555711, 0.603985628494186, 0.9494908012522079, 0.9659119785449317, 0.032197065951497725, 0.9922779495627829, 0.9890475212186967, 0.0637766241503361, 0.9353904875382627, 0.9755210844674598, 0.22490095616101297, 0.5940640388068862, 0.16645629979022342, 0.012576698206372436, 0.002219417330536312, 0.9778145416798443, 0.12109542360250522, 0.016146056480334032, 0.024219084720501046, 0.012109542360250523, 0.7891385104763258, 0.03834688414079332, 0.34079238501008235, 0.005926824087131867, 0.6519506495845053, 0.9762803452406955, 0.969532737272932, 0.014051199090912058, 0.997606264442446, 0.9668551623658854, 0.5724987043144611, 0.02154565016237219, 0.19698880148454576, 0.16620930125258548, 0.01231180009278411, 0.030779500231960275, 0.9829336777198759, 0.8995956853503042, 0.36785270106729306, 0.6313625686587674, 0.9918626895282084, 0.19371136057250543, 0.6325951991050286, 0.022801877216418028, 0.14706164846919148, 0.00355625607962483, 0.0002091915340955782, 0.08589783903594726, 0.0404100671326747, 0.1478881514436629, 0.3438029271758973, 0.09964995612298315, 0.28223575683239815, 0.9995651948218605, 0.06482307700495625, 0.9291307704043729, 0.03286690571007861, 0.054778176183464346, 0.9093177246455081], \"Term\": [\"achiev\", \"achiev\", \"activ\", \"activ\", \"activ\", \"activ\", \"activ\", \"activ\", \"addendum\", \"addendum\", \"adjust\", \"adjust\", \"adjust\", \"adjust\", \"adjust\", \"adjust\", \"adp\", \"advanc\", \"advanc\", \"advanc\", \"advanc\", \"advanc\", \"advanc\", \"african\", \"agenc\", \"agenc\", \"agenc\", \"agre\", \"agre\", \"agre\", \"aircraft\", \"america\", \"america\", \"american\", \"american\", \"american\", \"anecdot\", \"anecdot\", \"anticip\", \"anticip\", \"anticip\", \"anticip\", \"anticip\", \"apparel\", \"appropri\", \"april\", \"april\", \"april\", \"april\", \"april\", \"argu\", \"asia\", \"asia\", \"assembl\", \"assess\", \"assess\", \"assess\", \"assess\", \"asset\", \"asset\", \"asset\", \"assum\", \"attack\", \"attain\", \"auction\", \"august\", \"august\", \"august\", \"august\", \"august\", \"auto\", \"auto\", \"automak\", \"automot\", \"averag\", \"averag\", \"averag\", \"averag\", \"averag\", \"bank\", \"bank\", \"bank\", \"bank\", \"bank\", \"bank\", \"base\", \"base\", \"base\", \"base\", \"base\", \"baselin\", \"baselin\", \"bea\", \"bia\", \"bia\", \"bia\", \"bid\", \"bill\", \"bill\", \"bond\", \"bond\", \"book\", \"bottleneck\", \"bottleneck\", \"buoyant\", \"burden\", \"burden\", \"busi\", \"busi\", \"busi\", \"busi\", \"busi\", \"busi\", \"c\", \"calcul\", \"canada\", \"canada\", \"card\", \"cautiou\", \"cautiou\", \"cautiou\", \"centuri\", \"centuri\", \"chain\", \"chain\", \"chain\", \"chang\", \"chang\", \"chang\", \"chang\", \"chang\", \"chang\", \"china\", \"china\", \"china\", \"chip\", \"cite\", \"cite\", \"cite\", \"cite\", \"cite\", \"civilian\", \"civilian\", \"claim\", \"cmb\", \"cmb\", \"collater\", \"comment\", \"comment\", \"comment\", \"commerci\", \"commerci\", \"commerci\", \"committe\", \"committe\", \"committe\", \"compens\", \"compens\", \"compens\", \"concur\", \"condit\", \"condit\", \"condit\", \"condit\", \"condit\", \"condit\", \"conform\", \"consid\", \"consid\", \"construct\", \"construct\", \"construct\", \"construct\", \"consum\", \"consum\", \"consum\", \"consum\", \"contact\", \"continent\", \"continu\", \"continu\", \"continu\", \"continu\", \"continu\", \"continu\", \"converg\", \"convey\", \"core\", \"core\", \"core\", \"core\", \"corpor\", \"corpor\", \"corpor\", \"correct\", \"cost\", \"cost\", \"cost\", \"cost\", \"cost\", \"cost\", \"could\", \"could\", \"could\", \"counterbalanc\", \"cpi\", \"cre\", \"cre\", \"credit\", \"credit\", \"credit\", \"credit\", \"credit\", \"curv\", \"dalla\", \"damp\", \"damp\", \"damp\", \"damp\", \"damp\", \"debt\", \"debt\", \"debt\", \"debt\", \"debt\", \"decid\", \"declin\", \"declin\", \"declin\", \"declin\", \"declin\", \"declin\", \"default\", \"default\", \"defens\", \"defens\", \"delinqu\", \"demand\", \"demand\", \"demand\", \"demand\", \"demand\", \"demand\", \"depend\", \"depend\", \"deposit\", \"deposit\", \"describ\", \"direct\", \"direct\", \"direct\", \"direct\", \"direct\", \"discuss\", \"discuss\", \"discuss\", \"district\", \"dollar\", \"dollar\", \"dollar\", \"dollar\", \"dollar\", \"domest\", \"domest\", \"domest\", \"domest\", \"domest\", \"domest\", \"downgrad\", \"downturn\", \"dual\", \"durabl\", \"durabl\", \"durabl\", \"durabl\", \"durabl\", \"e\", \"ecb\", \"eci\", \"econom\", \"econom\", \"econom\", \"econom\", \"econom\", \"economi\", \"economi\", \"economi\", \"economi\", \"educ\", \"effort\", \"effort\", \"effort\", \"effort\", \"emerg\", \"emerg\", \"emerg\", \"emerg\", \"emphas\", \"emphas\", \"employ\", \"employ\", \"employ\", \"employ\", \"employ\", \"employe\", \"employe\", \"end\", \"end\", \"end\", \"end\", \"end\", \"end\", \"energi\", \"energi\", \"energi\", \"energi\", \"equip\", \"equip\", \"equip\", \"equiti\", \"equiti\", \"equiti\", \"equiti\", \"estat\", \"estat\", \"estat\", \"european\", \"european\", \"evalu\", \"evid\", \"evid\", \"evid\", \"evid\", \"evid\", \"evid\", \"evolut\", \"evolv\", \"evolv\", \"exchang\", \"exchang\", \"exchang\", \"exchang\", \"execut\", \"expans\", \"expans\", \"expans\", \"expans\", \"expans\", \"expans\", \"expect\", \"expect\", \"expect\", \"expect\", \"expect\", \"expect\", \"expens\", \"export\", \"export\", \"export\", \"facil\", \"facil\", \"factor\", \"factor\", \"factor\", \"factor\", \"factor\", \"factor\", \"factori\", \"factori\", \"famili\", \"famili\", \"februari\", \"februari\", \"februari\", \"februari\", \"feder\", \"feder\", \"feder\", \"feder\", \"feder\", \"feder\", \"felt\", \"fill\", \"financi\", \"financi\", \"financi\", \"financi\", \"finish\", \"finish\", \"finish\", \"finish\", \"firm\", \"firm\", \"firm\", \"firm\", \"firm\", \"firm\", \"first\", \"first\", \"first\", \"first\", \"first\", \"first\", \"food\", \"food\", \"food\", \"forc\", \"forc\", \"forc\", \"forecast\", \"forecast\", \"forecast\", \"foreign\", \"foreign\", \"foreign\", \"forese\", \"four\", \"four\", \"fourth\", \"fourth\", \"fourth\", \"fourth\", \"fund\", \"fund\", \"further\", \"g\", \"g\", \"gdp\", \"gdp\", \"go\", \"go\", \"goal\", \"good\", \"good\", \"good\", \"good\", \"grade\", \"grade\", \"greenspan\", \"growth\", \"growth\", \"growth\", \"growth\", \"growth\", \"growth\", \"guidanc\", \"half\", \"half\", \"half\", \"half\", \"half\", \"hardship\", \"high\", \"high\", \"high\", \"high\", \"high\", \"high\", \"hispan\", \"holiday\", \"holiday\", \"home\", \"home\", \"home\", \"hour\", \"hourli\", \"hous\", \"hous\", \"hous\", \"hous\", \"hous\", \"household\", \"household\", \"household\", \"household\", \"household\", \"household\", \"human\", \"imped\", \"impli\", \"impli\", \"impli\", \"impli\", \"increas\", \"increas\", \"increas\", \"increas\", \"increas\", \"increas\", \"inde\", \"inde\", \"inde\", \"inde\", \"index\", \"index\", \"index\", \"index\", \"india\", \"indic\", \"indic\", \"indic\", \"indic\", \"indic\", \"indic\", \"industri\", \"industri\", \"industri\", \"industri\", \"industri\", \"inflat\", \"inflat\", \"inflat\", \"inflat\", \"inflow\", \"inhibit\", \"institut\", \"institut\", \"institut\", \"intellectu\", \"intermeet\", \"intermeet\", \"intermeet\", \"intermeet\", \"intermeet\", \"intermeet\", \"invest\", \"invest\", \"invest\", \"invest\", \"invest\", \"investor\", \"issuanc\", \"issuanc\", \"januari\", \"januari\", \"januari\", \"januari\", \"januari\", \"januari\", \"japan\", \"japan\", \"japan\", \"job\", \"job\", \"jordan\", \"judg\", \"judg\", \"judg\", \"judg\", \"judg\", \"juli\", \"juli\", \"juli\", \"juli\", \"juli\", \"juli\", \"jumbo\", \"kelley\", \"kingdom\", \"kingdom\", \"labor\", \"labor\", \"labor\", \"labor\", \"languag\", \"latin\", \"level\", \"level\", \"level\", \"level\", \"level\", \"level\", \"leverag\", \"leverag\", \"like\", \"like\", \"like\", \"like\", \"like\", \"like\", \"liquid\", \"liquid\", \"liquid\", \"liquid\", \"littl\", \"littl\", \"littl\", \"littl\", \"littl\", \"littl\", \"loan\", \"loan\", \"longer\", \"longer\", \"longer\", \"longer\", \"longer\", \"m2\", \"m2\", \"m2\", \"m3\", \"maintain\", \"maintain\", \"maintain\", \"maintain\", \"maintain\", \"mandat\", \"mani\", \"mani\", \"mani\", \"mani\", \"mani\", \"mani\", \"manner\", \"manufactur\", \"manufactur\", \"manufactur\", \"market\", \"market\", \"market\", \"market\", \"market\", \"market\", \"matur\", \"maximum\", \"mb\", \"mcdonough\", \"measur\", \"measur\", \"measur\", \"measur\", \"measur\", \"measur\", \"median\", \"meet\", \"meet\", \"meet\", \"meet\", \"meet\", \"member\", \"member\", \"member\", \"messr\", \"mexico\", \"mexico\", \"meyer\", \"michigan\", \"michigan\", \"mine\", \"minut\", \"moder\", \"moder\", \"moder\", \"moder\", \"moder\", \"moder\", \"monetari\", \"monetari\", \"monetari\", \"monitor\", \"month\", \"month\", \"month\", \"month\", \"month\", \"month\", \"mortgag\", \"mortgag\", \"mortgag\", \"mortgag\", \"motor\", \"motor\", \"motor\", \"mr\", \"ms\", \"mse\", \"multifamili\", \"multifamili\", \"municip\", \"municip\", \"mutual\", \"net\", \"net\", \"net\", \"net\", \"net\", \"new\", \"new\", \"new\", \"new\", \"new\", \"next\", \"next\", \"next\", \"next\", \"next\", \"next\", \"nonbusi\", \"nondefens\", \"none\", \"nonfarm\", \"nonfarm\", \"nonhous\", \"nonprim\", \"note\", \"note\", \"note\", \"note\", \"number\", \"number\", \"number\", \"number\", \"number\", \"number\", \"object\", \"object\", \"octob\", \"octob\", \"octob\", \"octob\", \"octob\", \"offic\", \"offic\", \"offic\", \"origin\", \"outflow\", \"outlet\", \"outlook\", \"outlook\", \"outlook\", \"outlook\", \"output\", \"output\", \"output\", \"output\", \"overbuild\", \"overnight\", \"overst\", \"p\", \"pace\", \"pace\", \"pace\", \"pace\", \"pace\", \"pace\", \"paper\", \"paper\", \"particip\", \"particip\", \"particip\", \"particip\", \"payrol\", \"payrol\", \"payrol\", \"pce\", \"pce\", \"pce\", \"pend\", \"pent\", \"percent\", \"percent\", \"percent\", \"period\", \"period\", \"period\", \"period\", \"period\", \"period\", \"permit\", \"phillip\", \"pictur\", \"plant\", \"polici\", \"polici\", \"polici\", \"polici\", \"popul\", \"popul\", \"postmeet\", \"postmeet\", \"potenti\", \"potenti\", \"potenti\", \"potenti\", \"prepar\", \"prepar\", \"presid\", \"presid\", \"presid\", \"pressur\", \"pressur\", \"pressur\", \"pressur\", \"pressur\", \"presumpt\", \"price\", \"price\", \"price\", \"price\", \"price\", \"price\", \"processor\", \"product\", \"product\", \"product\", \"product\", \"profession\", \"profit\", \"profit\", \"progress\", \"progress\", \"progress\", \"progress\", \"project\", \"project\", \"project\", \"promot\", \"promot\", \"properti\", \"properti\", \"prospect\", \"prospect\", \"prospect\", \"prospect\", \"protect\", \"quarter\", \"quarter\", \"quarter\", \"quarter\", \"quarter\", \"quarter\", \"quot\", \"rang\", \"rang\", \"rang\", \"rang\", \"rang\", \"rang\", \"rate\", \"rate\", \"rate\", \"rate\", \"rate\", \"rate\", \"reaffirm\", \"real\", \"real\", \"real\", \"real\", \"real\", \"recent\", \"recent\", \"recent\", \"recent\", \"recent\", \"recent\", \"reiter\", \"remain\", \"remain\", \"remain\", \"remain\", \"remain\", \"remain\", \"remov\", \"reopen\", \"repo\", \"report\", \"report\", \"report\", \"report\", \"repurchas\", \"residenti\", \"residenti\", \"residenti\", \"revis\", \"revis\", \"revis\", \"revis\", \"revis\", \"revis\", \"revolv\", \"rig\", \"risk\", \"risk\", \"risk\", \"risk\", \"rivlin\", \"rose\", \"rose\", \"rose\", \"rose\", \"rrp\", \"run\", \"run\", \"run\", \"run\", \"run\", \"run\", \"sale\", \"sale\", \"sale\", \"save\", \"score\", \"second\", \"second\", \"second\", \"second\", \"second\", \"sector\", \"sector\", \"sector\", \"sector\", \"sector\", \"secur\", \"secur\", \"secur\", \"sep\", \"sever\", \"sever\", \"sever\", \"sever\", \"sever\", \"sever\", \"shipment\", \"shipment\", \"shortag\", \"singl\", \"skew\", \"skew\", \"sloo\", \"slow\", \"slow\", \"slow\", \"slow\", \"slow\", \"slow\", \"social\", \"somewhat\", \"somewhat\", \"somewhat\", \"somewhat\", \"somewhat\", \"somewhat\", \"sovereign\", \"specul\", \"specul\", \"spend\", \"spend\", \"spend\", \"spend\", \"spend\", \"spread\", \"spread\", \"spread\", \"staff\", \"staff\", \"staff\", \"stanc\", \"stanc\", \"stanc\", \"standard\", \"standard\", \"standard\", \"standard\", \"statement\", \"statement\", \"steel\", \"store\", \"strength\", \"strength\", \"strength\", \"strength\", \"student\", \"suppli\", \"suppli\", \"suppli\", \"suppli\", \"suppli\", \"suppli\", \"survey\", \"survey\", \"survey\", \"survey\", \"swap\", \"symmetr\", \"target\", \"target\", \"target\", \"tariff\", \"tendenc\", \"tendenc\", \"term\", \"term\", \"term\", \"term\", \"term\", \"term\", \"third\", \"third\", \"third\", \"third\", \"thomson\", \"threshold\", \"tilt\", \"tilt\", \"time\", \"time\", \"time\", \"time\", \"time\", \"time\", \"tool\", \"total\", \"total\", \"total\", \"total\", \"total\", \"treasuri\", \"tremend\", \"tuesday\", \"turnov\", \"underpin\", \"unemploy\", \"unemploy\", \"unemploy\", \"unemploy\", \"unrevis\", \"vaccin\", \"vaccin\", \"valuat\", \"variant\", \"vehicl\", \"vehicl\", \"veloc\", \"view\", \"view\", \"view\", \"view\", \"view\", \"vix\", \"volatil\", \"volatil\", \"volatil\", \"volatil\", \"volatil\", \"volatil\", \"wage\", \"wage\", \"wage\", \"wait\", \"war\", \"war\", \"warrant\", \"wave\", \"weak\", \"weak\", \"weak\", \"weak\", \"weak\", \"weak\", \"white\", \"women\", \"worker\", \"worker\", \"workweek\", \"would\", \"would\", \"would\", \"would\", \"would\", \"would\", \"year\", \"year\", \"year\", \"year\", \"year\", \"year\", \"yield\", \"\\u2011\", \"\\u2011\", \"\\u2013\", \"\\u2013\", \"\\u2013\"]}, \"R\": 30, \"lambda.step\": 0.01, \"plot.opts\": {\"xlab\": \"PC1\", \"ylab\": \"PC2\"}, \"topic.order\": [6, 2, 1, 4, 5, 3]};\n",
       "\n",
       "function LDAvis_load_lib(url, callback){\n",
       "  var s = document.createElement('script');\n",
       "  s.src = url;\n",
       "  s.async = true;\n",
       "  s.onreadystatechange = s.onload = callback;\n",
       "  s.onerror = function(){console.warn(\"failed to load library \" + url);};\n",
       "  document.getElementsByTagName(\"head\")[0].appendChild(s);\n",
       "}\n",
       "\n",
       "if(typeof(LDAvis) !== \"undefined\"){\n",
       "   // already loaded: just create the visualization\n",
       "   !function(LDAvis){\n",
       "       new LDAvis(\"#\" + \"ldavis_el2170355851010724772912145\", ldavis_el2170355851010724772912145_data);\n",
       "   }(LDAvis);\n",
       "}else if(typeof define === \"function\" && define.amd){\n",
       "   // require.js is available: use it to load d3/LDAvis\n",
       "   require.config({paths: {d3: \"https://d3js.org/d3.v5\"}});\n",
       "   require([\"d3\"], function(d3){\n",
       "      window.d3 = d3;\n",
       "      LDAvis_load_lib(\"https://cdn.jsdelivr.net/gh/bmabey/pyLDAvis@3.4.0/pyLDAvis/js/ldavis.v3.0.0.js\", function(){\n",
       "        new LDAvis(\"#\" + \"ldavis_el2170355851010724772912145\", ldavis_el2170355851010724772912145_data);\n",
       "      });\n",
       "    });\n",
       "}else{\n",
       "    // require.js not available: dynamically load d3 & LDAvis\n",
       "    LDAvis_load_lib(\"https://d3js.org/d3.v5.js\", function(){\n",
       "         LDAvis_load_lib(\"https://cdn.jsdelivr.net/gh/bmabey/pyLDAvis@3.4.0/pyLDAvis/js/ldavis.v3.0.0.js\", function(){\n",
       "                 new LDAvis(\"#\" + \"ldavis_el2170355851010724772912145\", ldavis_el2170355851010724772912145_data);\n",
       "            })\n",
       "         });\n",
       "}\n",
       "</script>"
      ],
      "text/plain": [
       "PreparedData(topic_coordinates=              x         y  topics  cluster       Freq\n",
       "topic                                                \n",
       "5      0.045998 -0.105124       1        1  21.794739\n",
       "1      0.241960 -0.016177       2        1  21.179457\n",
       "0     -0.212509 -0.027031       3        1  16.360839\n",
       "3     -0.001859 -0.064894       4        1  13.771225\n",
       "4      0.007536  0.227637       5        1  13.656523\n",
       "2     -0.081126 -0.014412       6        1  13.237218, topic_info=          Term         Freq        Total Category  logprob  loglift\n",
       "1780    inflat  8974.000000  8974.000000  Default  30.0000  30.0000\n",
       "662   committe  3817.000000  3817.000000  Default  29.0000  29.0000\n",
       "2728     price  6996.000000  6996.000000  Default  28.0000  28.0000\n",
       "2543  particip  7490.000000  7490.000000  Default  27.0000  27.0000\n",
       "1565    growth  5261.000000  5261.000000  Default  26.0000  26.0000\n",
       "...        ...          ...          ...      ...      ...      ...\n",
       "2105    market   943.877442  6932.056389   Topic6  -4.4923   0.0282\n",
       "763    continu   818.073782  5588.963696   Topic6  -4.6354   0.1005\n",
       "1989     level   641.089381  3325.931343   Topic6  -4.8791   0.3758\n",
       "2022     littl   566.550817  1771.639022   Topic6  -5.0027   0.8820\n",
       "2817   quarter   569.767718  4782.563273   Topic6  -4.9971  -0.1054\n",
       "\n",
       "[493 rows x 6 columns], token_table=      Topic      Freq    Term\n",
       "term                         \n",
       "86        2  0.989598  achiev\n",
       "86        6  0.006945  achiev\n",
       "94        1  0.402720   activ\n",
       "94        2  0.172060   activ\n",
       "94        3  0.091017   activ\n",
       "...     ...       ...     ...\n",
       "4111      4  0.064823       ‑\n",
       "4111      6  0.929131       ‑\n",
       "4114      4  0.032867       –\n",
       "4114      5  0.054778       –\n",
       "4114      6  0.909318       –\n",
       "\n",
       "[1083 rows x 3 columns], R=30, lambda_step=0.01, plot_opts={'xlab': 'PC1', 'ylab': 'PC2'}, topic_order=[6, 2, 1, 4, 5, 3])"
      ]
     },
     "execution_count": 36,
     "metadata": {},
     "output_type": "execute_result"
    }
   ],
   "source": [
    "pyLDAvis.lda_model.prepare(lda_model_6,bag_of_words,vectorizer)"
   ]
  },
  {
   "cell_type": "markdown",
   "metadata": {
    "tags": []
   },
   "source": [
    "Topic 0: Quarterly Economic Performance and Loans\n",
    "\n",
    "Key Words: quarter, loan, increas, real, remain, declin, continu, credit, sale, consum\n",
    "Representation: This topic likely covers discussions about quarterly economic performance, loan activities, and credit markets. Terms like \"quarter\" and \"increas\" suggest a focus on periodic economic updates, while \"loan\" and \"credit\" indicate financial activities related to lending and consumer credit.\n",
    "Justification: The FOMC often reviews quarterly economic data and considers the state of the credit markets, which are critical for economic stability and growth.\n",
    "\n",
    "Topic 1: Inflation and Monetary Policy\n",
    "\n",
    "Key Words: inflat, committe, particip, polici, would, econom, member, rate, feder, risk\n",
    "Representation: This topic focuses on inflation and the committee's policy decisions. Terms like \"inflat\" and \"polici\" are central to the FOMC's role, while \"committe\" and \"member\" indicate the decision-making process.\n",
    "Justification: Inflation control is a primary objective of the FOMC, and this topic reflects the discussions around policy measures to manage inflation.\n",
    "\n",
    "Topic 2: Price Levels and Labor Market\n",
    "\n",
    "Key Words: inflat, price, labor, month, rate, measur, percent, year, increas, remain\n",
    "Representation: This topic covers price levels, inflation measurements, and labor market conditions. Words like \"price\" and \"labor\" suggest a focus on employment and wage dynamics, which are closely tied to inflation.\n",
    "Justification: Monitoring price levels and labor market conditions helps the FOMC assess economic health and inflationary pressures.\n",
    "\n",
    "Topic 3: Economic Growth and Forecasts\n",
    "\n",
    "Key Words: growth, econom, project, year, quarter, economi, rate, forecast, gdp, staff\n",
    "Representation: This topic relates to overall economic growth, forecasts, and projections. Terms like \"growth\" and \"project\" suggest future-oriented discussions, while \"gdp\" and \"rate\" are key economic indicators.\n",
    "Justification: Economic forecasts and growth projections are essential for the FOMC to plan and adjust monetary policy accordingly.\n",
    "\n",
    "Topic 4: Market Conditions and Financial Stability\n",
    "\n",
    "Key Words: market, period, rate, intermeet, bank, financi, treasuri, fund, secur, remain\n",
    "Representation: This topic focuses on market conditions and financial stability. Words like \"market,\" \"rate,\" and \"bank\" point to discussions on interest rates, banking stability, and market operations.\n",
    "Justification: Ensuring stable market conditions and a sound financial system is a core responsibility of the FOMC.\n",
    "\n",
    "Topic 5: Business Activities and Consumer Spending\n",
    "\n",
    "Key Words: particip, busi, spend, price, growth, note, continu, recent, sector, market\n",
    "Representation: This topic covers business activities and consumer spending. Terms like \"busi\" and \"spend\" indicate a focus on economic activities at the business and consumer level.\n",
    "Justification: Understanding business activities and consumer spending patterns helps the FOMC gauge economic momentum and adjust policies to support sustainable growth."
   ]
  },
  {
   "cell_type": "markdown",
   "metadata": {},
   "source": [
    "## <a name=\"finbert\"></a>FinBERT\n",
    "FinBERT is a pre-trained transformer model, specifically trained for the finance domain. https://github.com/ProsusAI/finBERT. The sentiment scoring component derives from Financial PhraseBank dataset. \n",
    "Here we will score each old text instead of our lemmatised 'new text'. "
   ]
  },
  {
   "cell_type": "markdown",
   "metadata": {},
   "source": [
    "Most documents have tokens less than the maximum model size, which means we don't have to worry about truncation, in fact we could probably truncate our tokens to 350"
   ]
  },
  {
   "cell_type": "markdown",
   "metadata": {},
   "source": [
    "## for all"
   ]
  },
  {
   "cell_type": "code",
   "execution_count": null,
   "metadata": {
    "tags": []
   },
   "outputs": [
    {
     "name": "stderr",
     "output_type": "stream",
     "text": [
      "Analyzing Sentiments:  47%|████▋     | 107/227 [49:21<52:09, 26.08s/text] "
     ]
    }
   ],
   "source": [
    "import os\n",
    "import re\n",
    "import pandas as pd\n",
    "import numpy as np\n",
    "from transformers import AutoTokenizer, AutoModelForSequenceClassification\n",
    "from nltk.tokenize import sent_tokenize, word_tokenize\n",
    "from nltk.corpus import stopwords\n",
    "from nltk.stem import WordNetLemmatizer\n",
    "from sklearn.feature_extraction.text import CountVectorizer\n",
    "from sklearn.decomposition import LatentDirichletAllocation\n",
    "from tqdm import tqdm\n",
    "import joblib\n",
    "\n",
    "# Load FinBERT tokenizer and model\n",
    "tokenizer = AutoTokenizer.from_pretrained(\"ProsusAI/finbert\")\n",
    "model = AutoModelForSequenceClassification.from_pretrained(\"ProsusAI/finbert\")\n",
    "\n",
    "# Function to perform sentiment analysis using FinBERT\n",
    "def analyze_sentiment(text):\n",
    "    inputs = tokenizer(text, return_tensors='pt', truncation=True, padding=True, max_length=512)\n",
    "    outputs = model(**inputs)\n",
    "    logits = outputs.logits.detach().numpy()\n",
    "    sentiment = logits[0].argmax()  # 0: negative, 1: neutral, 2: positive\n",
    "    sentiment_mapping = {0: -1, 1: 0, 2: 1}\n",
    "    return sentiment_mapping[sentiment]\n",
    "\n",
    "# Preprocess the combined texts\n",
    "stop_words = set(stopwords.words('english')) | {'u', 's', '--', '-', '.\"', ',\"', '.)', ')-', '\".', '—', '),'}\n",
    "lemmatizer = WordNetLemmatizer()\n",
    "\n",
    "def preprocess_text(text):\n",
    "    sentences = sent_tokenize(text.lower())\n",
    "    processed_sentences = []\n",
    "    for sentence in sentences:\n",
    "        tokens = word_tokenize(sentence)\n",
    "        tokens = [t for t in tokens if t not in stop_words]\n",
    "        tokens = [lemmatizer.lemmatize(t) for t in tokens]\n",
    "        processed_sentences.append(' '.join(tokens))\n",
    "    return ' '.join(processed_sentences)\n",
    "\n",
    "# Read and preprocess texts\n",
    "texts = []\n",
    "file_names = []\n",
    "combined_dir = \"Minutes_truncated\"  # Your directory with text files\n",
    "for file in os.listdir(combined_dir):  # Test with 10 files first\n",
    "    if file.endswith(\".txt\"):\n",
    "        with open(os.path.join(combined_dir, file), 'r', encoding='utf-8') as f:\n",
    "            texts.append(f.read())\n",
    "            file_names.append(file)\n",
    "\n",
    "# Extract dates from file names\n",
    "dates = [re.search(r'\\d{8}', file).group() for file in file_names if re.search(r'\\d{8}', file)]\n",
    "\n",
    "# Preprocess texts\n",
    "preprocessed_texts = [preprocess_text(text) for text in texts]\n",
    "\n",
    "# Vectorize texts\n",
    "vectorizer = CountVectorizer(max_df=0.95, min_df=2, stop_words='english')\n",
    "bag_of_words = vectorizer.fit_transform(preprocessed_texts)\n",
    "\n",
    "# Fit LDA for 6 topics\n",
    "num_topics_6 = 6\n",
    "lda_model_6 = LatentDirichletAllocation(n_components=num_topics_6, max_iter=20, learning_method='online', random_state=10, n_jobs=-1)\n",
    "lda_transform_6 = lda_model_6.fit_transform(bag_of_words)\n",
    "\n",
    "# Get topic distribution for each document\n",
    "topic_distributions = lda_transform_6\n",
    "\n",
    "# Analyze sentiment at the sentence level with progress bar\n",
    "sentiments = []\n",
    "sentences_list = []\n",
    "for text in tqdm(texts, desc=\"Analyzing Sentiments\", unit=\"text\"):\n",
    "    sentences = sent_tokenize(text)\n",
    "    sentences_list.append(sentences)\n",
    "    sentiment_scores = [analyze_sentiment(sentence) for sentence in sentences]\n",
    "    sentiments.append(sentiment_scores)\n",
    "\n",
    "# Save sentiment analysis results\n",
    "with open('FINBERT_sentiment_analysis_results.pkl', 'wb') as f:\n",
    "    joblib.dump(sentiments, f)\n",
    "\n",
    "# Function to aggregate sentiment by topic and date\n",
    "def aggregate_sentiment_by_topic_and_date(sentiments, topic_distributions, dates, num_topics, sentences_list):\n",
    "    aggregated_data = {f\"Topic_{i}\": [] for i in range(num_topics)}\n",
    "    date_dict = {}\n",
    "\n",
    "    for date, sentiment_scores, topic_dist, sentences in zip(dates, sentiments, topic_distributions, sentences_list):\n",
    "        if date not in date_dict:\n",
    "            date_dict[date] = {f\"Topic_{i}\": [] for i in range(num_topics)}\n",
    "        \n",
    "        num_sentences = len(sentences)\n",
    "        for topic_idx in range(num_topics):\n",
    "            topic_weight = topic_dist[topic_idx]\n",
    "            topic_sentiment_scores = sentiment_scores[:num_sentences]\n",
    "            weighted_sentiments = [score * topic_weight for score in topic_sentiment_scores]\n",
    "            topic_score = np.mean(weighted_sentiments)\n",
    "            date_dict[date][f\"Topic_{topic_idx}\"].append(topic_score)\n",
    "\n",
    "    for date, topics in date_dict.items():\n",
    "        for topic, scores in topics.items():\n",
    "            if scores:\n",
    "                avg_sentiment = np.mean(scores)\n",
    "                aggregated_data[topic].append((date, avg_sentiment))\n",
    "\n",
    "    return aggregated_data\n",
    "\n",
    "# Aggregate sentiment by topic and date\n",
    "aggregated_sentiment_data = aggregate_sentiment_by_topic_and_date(sentiments, topic_distributions, dates, num_topics_6, sentences_list)\n",
    "\n",
    "# Convert to DataFrame for visualization\n",
    "df_aggregated = pd.DataFrame()\n",
    "for topic, data in aggregated_sentiment_data.items():\n",
    "    temp_df = pd.DataFrame(data, columns=['Date', topic])\n",
    "    if df_aggregated.empty:\n",
    "        df_aggregated = temp_df\n",
    "    else:\n",
    "        df_aggregated = pd.merge(df_aggregated, temp_df, on='Date', how='outer')\n",
    "\n",
    "df_aggregated['Date'] = pd.to_datetime(df_aggregated['Date'], format='%Y%m%d')\n",
    "df_aggregated.set_index('Date', inplace=True)\n",
    "df_aggregated = df_aggregated.sort_index()\n",
    "\n",
    "# Plot the results\n",
    "df_aggregated.plot(kind='line', figsize=(14, 7), title='Average Sentiment by Topic over Time')\n",
    "\n",
    "# Save to CSV\n",
    "df_aggregated.to_csv('FINBERT_aggregated_sentiment_by_topic.csv')\n",
    "\n",
    "# Save the vectorizer\n",
    "with open('vectorizer_v6.pkl', 'wb') as f:\n",
    "    joblib.dump(vectorizer, f)\n",
    "\n",
    "# Save the LDA model\n",
    "with open('lda_model_6.pkl', 'wb') as f:\n",
    "    joblib.dump(lda_model_6, f)\n",
    "\n",
    "# Display the DataFrame\n",
    "print(df_aggregated.head())\n"
   ]
  },
  {
   "cell_type": "markdown",
   "metadata": {},
   "source": [
    "### SAVE?  later."
   ]
  },
  {
   "cell_type": "code",
   "execution_count": null,
   "metadata": {},
   "outputs": [],
   "source": [
    "\"\"\"\n",
    "#Save Transformer models\n",
    "save_path = os.path.join(current_directory,\"Model\")\n",
    "if not os.path.exists(save_path):\n",
    "    os.mkdir(save_path)\n",
    "\n",
    "    \n",
    "transformer_model.save_pretrained(os.path.join(save_path,\"transformer_model\"))\n",
    "#Save LDA,vectorizer,topic_dictionary\n",
    "transformer_tokenizer.save_pretrained(os.path.join(save_path,\"transformer_tokenizer\"))\n",
    "#save tokenizer settings\n",
    "pickle.dump(tokenizer_settings,open(os.path.join(save_path,\"tokenizer_settings.pkl\"),\"wb\"))\n",
    "\n",
    "#save lda model\n",
    "\n",
    "with open(os.path.join(save_path,\"lda_models.pkl\"),'wb') as models:\n",
    "    pickle.dump((lda_model,vectorizer,topic_dict),models)\n",
    "\n",
    "\"\"\"\n"
   ]
  }
 ],
 "metadata": {
  "kernelspec": {
   "display_name": "Python 3 (ipykernel)",
   "language": "python",
   "name": "python3"
  },
  "language_info": {
   "codemirror_mode": {
    "name": "ipython",
    "version": 3
   },
   "file_extension": ".py",
   "mimetype": "text/x-python",
   "name": "python",
   "nbconvert_exporter": "python",
   "pygments_lexer": "ipython3",
   "version": "3.11.3"
  }
 },
 "nbformat": 4,
 "nbformat_minor": 4
}
